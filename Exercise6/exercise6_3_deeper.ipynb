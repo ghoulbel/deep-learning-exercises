{
 "cells": [
  {
   "cell_type": "code",
   "execution_count": null,
   "metadata": {},
   "outputs": [],
   "source": [
    "import numpy as np\n",
    "from matplotlib import pyplot as plt\n",
    "# First, import TF and get its version.\n",
    "import tensorflow as tf\n",
    "from tensorflow import keras\n",
    "tf_version = tf.__version__\n",
    "\n",
    "# Check if version >=2.0.0 is used\n",
    "if not tf_version.startswith('2.'):\n",
    "    print('WARNING: TensorFlow >= 2.0.0 will be used in this course.\\nYour version is {}'.format(tf_version) + '.\\033[0m')\n",
    "else:\n",
    "    print('OK: TensorFlow >= 2.0.0' + '.\\033[0m')\n",
    "\n",
    "# Check if GPU available\n",
    "print(\"Num GPUs Available: \", len(tf.config.list_physical_devices('GPU')))"
   ]
  },
  {
   "cell_type": "code",
   "execution_count": null,
   "metadata": {},
   "outputs": [],
   "source": [
    "def show_imgs(X):\n",
    "    plt.figure(1)\n",
    "    k = 0\n",
    "    for i in range(0,5):\n",
    "        for j in range(0,5):\n",
    "            plt.subplot2grid((5,5),(i,j))\n",
    "            plt.imshow(X[k])\n",
    "            k = k+1\n",
    "            plt.axis('off')\n",
    "    plt.show()\n",
    "\n",
    "    \n",
    "# Load data & split data between train and test sets\n",
    "(X_train, y_train), (X_test, y_test) = keras.datasets.cifar10.load_data()\n",
    "\n",
    "show_imgs(X_train)"
   ]
  },
  {
   "cell_type": "code",
   "execution_count": null,
   "metadata": {},
   "outputs": [],
   "source": [
    "# No reshaping but still doing some conversion\n",
    "\n",
    "X_train =  X_train.astype('float32')    # change the type towards float32\n",
    "X_test =   X_test.astype('float32')     # item\n",
    "X_train /= 255                          # normalize the range to be between 0.0 and 1.0\n",
    "X_test /=  255                          # item                     \n",
    "print(X_train.shape[0], 'train samples')\n",
    "print(X_test.shape[0], 'test samples')\n",
    "\n",
    "n_classes = 10\n",
    "Y_train = keras.utils.to_categorical(y_train, n_classes)    # modify targets to 1-hot using utils.to_categorical()\n",
    "Y_test = keras.utils.to_categorical(y_test, n_classes)      # idem \n",
    "print(Y_train[:10])"
   ]
  },
  {
   "cell_type": "markdown",
   "metadata": {},
   "source": [
    "# Network definition"
   ]
  },
  {
   "cell_type": "code",
   "execution_count": null,
   "metadata": {},
   "outputs": [],
   "source": [
    "E = 10                 # number of epochs\n",
    "B = 128               # batch size\n",
    "\n",
    "# ... define the model as a Sequential type\n",
    "model = keras.models.Sequential()\n",
    "# layer one\n",
    "model.add(keras.layers.Conv2D(32, padding='same',\n",
    "                            activation='ReLU',\n",
    "                            kernel_size=(3,3),\n",
    "                            input_shape=(32,32,3)))\n",
    "\n",
    "model.add(keras.layers.MaxPooling2D((2,2)))\n",
    "\n",
    "model.add(keras.layers.BatchNormalization())\n",
    "\n",
    "# layer 2\n",
    "\n",
    "model.add(keras.layers.Conv2D(32, padding='same',\n",
    "                            activation='ReLU',\n",
    "                            kernel_size=(5,5),\n",
    "                            input_shape=(32,32,3)))\n",
    "\n",
    "model.add(keras.layers.MaxPooling2D((2,2)))\n",
    "\n",
    "model.add(keras.layers.BatchNormalization())\n",
    "\n",
    "# layer 3\n",
    "\n",
    "model.add(keras.layers.Conv2D(32, padding='same',\n",
    "                            activation='ReLU',\n",
    "                            kernel_size=(7,7),\n",
    "                            input_shape=(32,32,3)))\n",
    "\n",
    "model.add(keras.layers.MaxPooling2D((2,2)))\n",
    "\n",
    "model.add(keras.layers.BatchNormalization())\n",
    "\n",
    "model.add(keras.layers.Flatten())\n",
    "\n",
    "model.add(keras.layers.Dense(10, activation='softmax'))\n",
    "\n",
    "# ... print model infomration with summary() method\n",
    "print(model.summary())"
   ]
  },
  {
   "cell_type": "code",
   "execution_count": null,
   "metadata": {},
   "outputs": [],
   "source": [
    "model.compile(optimizer='adam', \n",
    "            loss='categorical_crossentropy',\n",
    "            metrics=['accuracy'])\n",
    "\n",
    "log = model.fit(X_train, Y_train, batch_size=B, epochs=E, verbose=1, validation_data=(X_test, Y_test))"
   ]
  },
  {
   "cell_type": "code",
   "execution_count": null,
   "metadata": {},
   "outputs": [],
   "source": [
    "f = plt.figure(figsize=(12,4))\n",
    "ax1 = f.add_subplot(121)\n",
    "ax2 = f.add_subplot(122)\n",
    "ax1.plot(log.history['loss'], label='Training loss')\n",
    "ax1.plot(log.history['val_loss'], label='Testing loss')\n",
    "ax1.legend()\n",
    "ax1.grid()\n",
    "ax2.plot(log.history['accuracy'], label='Training acc')\n",
    "ax2.plot(log.history['val_accuracy'], label='Testing acc')\n",
    "ax2.legend()\n",
    "ax2.grid()"
   ]
  }
 ],
 "metadata": {
  "interpreter": {
   "hash": "904dc1bdff9d4d7e4be896e8be3a0a26d058166099009e9b4b89e1904816c92a"
  },
  "kernelspec": {
   "display_name": "Python 3.8.13 ('venv': venv)",
   "language": "python",
   "name": "python3"
  },
  "language_info": {
   "codemirror_mode": {
    "name": "ipython",
    "version": 3
   },
   "file_extension": ".py",
   "mimetype": "text/x-python",
   "name": "python",
   "nbconvert_exporter": "python",
   "pygments_lexer": "ipython3",
   "version": "3.8.13"
  },
  "orig_nbformat": 4
 },
 "nbformat": 4,
 "nbformat_minor": 2
}
