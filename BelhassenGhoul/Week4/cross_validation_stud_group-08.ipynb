{
 "cells": [
  {
   "cell_type": "markdown",
   "id": "060acc45",
   "metadata": {},
   "source": [
    "**Group-08**<br/>\n",
    "<font style=\"color:red\"> **Belhassen Ghoul <br/> Robin Ehrensperger <br/> Dominic Diedenhofen**</font>"
   ]
  },
  {
   "cell_type": "code",
   "execution_count": 9,
   "id": "a31c6137-13df-484e-8b27-48ecdb388f4e",
   "metadata": {},
   "outputs": [],
   "source": [
    "import torch\n",
    "from torch.utils.data import DataLoader\n",
    "from torchvision import datasets\n",
    "from torchvision.transforms import ToTensor\n",
    "from torchsummary import summary\n",
    "import numpy as np\n",
    "import matplotlib.pyplot as plt\n",
    "from sklearn.model_selection import KFold"
   ]
  },
  {
   "cell_type": "markdown",
   "id": "898da3f7-5704-4292-b656-62cb7e3bffe1",
   "metadata": {},
   "source": [
    "### Loading the Data"
   ]
  },
  {
   "cell_type": "code",
   "execution_count": 10,
   "id": "565fe12c-8ad4-43bb-b6a5-25aeb91ba3c7",
   "metadata": {},
   "outputs": [],
   "source": [
    "training_data = datasets.mnist.FashionMNIST(root=\"data\", train=True, download=True, transform=ToTensor())\n",
    "test_data = datasets.mnist.FashionMNIST(root=\"data\", train=False, download=True, transform=ToTensor())"
   ]
  },
  {
   "cell_type": "markdown",
   "id": "cab3eb4f-cdfa-4b85-a723-4762e70aa689",
   "metadata": {},
   "source": [
    "### Model"
   ]
  },
  {
   "cell_type": "code",
   "execution_count": 11,
   "id": "7d05021e",
   "metadata": {},
   "outputs": [],
   "source": [
    "class MLP(torch.nn.Module):    \n",
    "    def __init__(self, params):\n",
    "        super(MLP, self).__init__()\n",
    "        self.units = params[1]\n",
    "        self.flatten = torch.nn.Flatten()\n",
    "        self.linear1 = torch.nn.Linear(params[0],params[1])\n",
    "        self.ReLU = torch.nn.ReLU()\n",
    "        self.linear2 = torch.nn.Linear(params[1],params[2])\n",
    "        self.ReLU2 = torch.nn.ReLU()\n",
    "        self.linear3 = torch.nn.Linear(params[2],params[3])\n",
    "\n",
    "    def forward(self, x):\n",
    "        z = self.linear1(self.flatten(x))\n",
    "        z = self.ReLU(z)\n",
    "        z = self.linear2(z)\n",
    "        z = self.ReLU2(z)\n",
    "        return self.linear3(z)\n",
    "\n"
   ]
  },
  {
   "cell_type": "code",
   "execution_count": 12,
   "id": "553da531-2d78-40f6-9cd4-9d5320588bfd",
   "metadata": {},
   "outputs": [],
   "source": [
    "# your favourite MLP model\n",
    "\n",
    "model = MLP([28*28,200,80,10])\n",
    "\n"
   ]
  },
  {
   "cell_type": "code",
   "execution_count": 13,
   "id": "a546f61f-3918-4b11-b31f-e6e22656293a",
   "metadata": {},
   "outputs": [
    {
     "name": "stdout",
     "output_type": "stream",
     "text": [
      "----------------------------------------------------------------\n",
      "        Layer (type)               Output Shape         Param #\n",
      "================================================================\n",
      "           Flatten-1                  [-1, 784]               0\n",
      "            Linear-2                  [-1, 200]         157,000\n",
      "              ReLU-3                  [-1, 200]               0\n",
      "            Linear-4                   [-1, 80]          16,080\n",
      "              ReLU-5                   [-1, 80]               0\n",
      "            Linear-6                   [-1, 10]             810\n",
      "================================================================\n",
      "Total params: 173,890\n",
      "Trainable params: 173,890\n",
      "Non-trainable params: 0\n",
      "----------------------------------------------------------------\n",
      "Input size (MB): 0.00\n",
      "Forward/backward pass size (MB): 0.01\n",
      "Params size (MB): 0.66\n",
      "Estimated Total Size (MB): 0.68\n",
      "----------------------------------------------------------------\n"
     ]
    }
   ],
   "source": [
    "summary(model, (1,28,28))"
   ]
  },
  {
   "cell_type": "markdown",
   "id": "f8572d96-38b4-4595-86ae-11c85f5f2083",
   "metadata": {},
   "source": [
    "### Train-Eval over a given number of epochs for a given train/validation loader (4+1 fold)"
   ]
  },
  {
   "cell_type": "code",
   "execution_count": 14,
   "id": "935c445a-2859-41b8-a5df-ebd6b78d8496",
   "metadata": {},
   "outputs": [],
   "source": [
    "def train_eval(nepochs, model, lr, trainloader, validloader, cost_fn):\n",
    "    cost_hist = []\n",
    "    cost_hist_test = []\n",
    "    acc_hist = []\n",
    "    acc_hist_test = []\n",
    "\n",
    "    optimizer = torch.optim.SGD(model.parameters(), lr=lr)\n",
    "\n",
    "    \n",
    "    for epoch in range(nepochs):\n",
    "        model.train()\n",
    "        cost, acc = 0.0, 0.0\n",
    "        for (X, Y) in trainloader:\n",
    "            pred = model(X)\n",
    "            loss = cost_fn(pred, Y)\n",
    "            cost += loss.item()/len(trainloader)\n",
    "            acc += (pred.argmax(dim=1) == Y).type(torch.float).sum().item()/len(trainloader.dataset)\n",
    "\n",
    "            optimizer.zero_grad()\n",
    "            loss.backward()\n",
    "            optimizer.step()\n",
    "        \n",
    "        \n",
    "        \n",
    "        model.eval()\n",
    "        cost_test,acc_test = 0.0,0.0\n",
    "        with torch.no_grad():\n",
    "            for (X,Y) in validloader:\n",
    "                pred = model(X)\n",
    "                cost_test += cost_fn(pred, Y).item()/len(validloader)\n",
    "                acc_test += (pred.argmax(dim=1) == Y).type(torch.float).mean().item()/len(validloader)\n",
    "        \n",
    "        print(\"Epoch %i: %f, %f, %f, %f\"%(epoch, cost, acc, cost_test, acc_test))\n",
    "        cost_hist.append(cost)\n",
    "        cost_hist_test.append(cost_test)\n",
    "        acc_hist.append(acc)\n",
    "        acc_hist_test.append(acc_test)\n",
    "\n",
    "    return cost_hist, cost_hist_test, acc_hist, acc_hist_test"
   ]
  },
  {
   "cell_type": "markdown",
   "id": "b891cbe6-9b9d-486c-85fb-9462106e9511",
   "metadata": {},
   "source": [
    "### Split Training Data into folds\n",
    "\n",
    "Prepare specific loaders for the 4 training folds and the 1 validation fold\n",
    "\n",
    "Suggestions:\n",
    "* Use sklearns KFold functionality for spliiting into folds.\n",
    "* Use pytorchs subsamplers (torch.utils.data.SubsetRandomSampler) to construct training and validation loaders"
   ]
  },
  {
   "cell_type": "code",
   "execution_count": 15,
   "id": "a719296d-d9ce-4a77-8591-ac7dbf3b7416",
   "metadata": {},
   "outputs": [],
   "source": [
    "# Configuration options\n",
    "from torch.utils.data import SubsetRandomSampler\n",
    "\n",
    "nfolds = 5\n",
    "nepochs = 20\n",
    "lr = 0.3\n",
    "batchsize = 64\n",
    "kfold = KFold(n_splits=nfolds)\n",
    "\n",
    "datasetSize = len(training_data)\n",
    "datasetIndices = list(range(datasetSize))\n",
    "np.random.shuffle(datasetIndices)\n",
    "valSplitIndex = int(np.floor(0.2*datasetSize))\n",
    "train_ids, valid_ids = datasetIndices[valSplitIndex:],datasetIndices[:valSplitIndex]\n",
    "trainSampler = SubsetRandomSampler(train_ids)\n",
    "valSampler = SubsetRandomSampler(valid_ids)\n",
    "\n",
    "trainloader = DataLoader(training_data, batch_size=batchsize, shuffle=False, sampler=trainSampler)\n",
    "validloader = DataLoader(training_data, batch_size=batchsize, shuffle=False, sampler=valSampler)\n",
    "\n",
    "cost_fn = torch.nn.CrossEntropyLoss()\n",
    "results = {}\n"
   ]
  },
  {
   "cell_type": "code",
   "execution_count": 16,
   "id": "96666758",
   "metadata": {},
   "outputs": [
    {
     "name": "stdout",
     "output_type": "stream",
     "text": [
      "FOLD 0\n",
      "--------------------------------\n",
      "Epoch 0: 0.655775, 0.604300, 0.475076, 0.825964\n",
      "Epoch 1: 0.428561, 0.673083, 0.415827, 0.842753\n",
      "Epoch 2: 0.381773, 0.685783, 0.459216, 0.827294\n",
      "Epoch 3: 0.350710, 0.694750, 0.391844, 0.859874\n",
      "Epoch 4: 0.329049, 0.700667, 0.341342, 0.876662\n",
      "Epoch 5: 0.307862, 0.707583, 0.329457, 0.880070\n",
      "Epoch 6: 0.297784, 0.709867, 0.349655, 0.871177\n",
      "Epoch 7: 0.283073, 0.713950, 0.351187, 0.870512\n",
      "Epoch 8: 0.275593, 0.716333, 0.389013, 0.863697\n",
      "Epoch 9: 0.265559, 0.718467, 0.330111, 0.879820\n",
      "Epoch 10: 0.257035, 0.721250, 0.320278, 0.888298\n",
      "Epoch 11: 0.247762, 0.723783, 0.317068, 0.884475\n",
      "Epoch 12: 0.241318, 0.726167, 0.314034, 0.891207\n",
      "Epoch 13: 0.234551, 0.727883, 0.332093, 0.884558\n",
      "Epoch 14: 0.230202, 0.729017, 0.331259, 0.884225\n",
      "Epoch 15: 0.221359, 0.731350, 0.309636, 0.890043\n",
      "Epoch 16: 0.216475, 0.733800, 0.353496, 0.878823\n",
      "Epoch 17: 0.216282, 0.733500, 0.361806, 0.874418\n",
      "Epoch 18: 0.208036, 0.736850, 0.324891, 0.891539\n",
      "Epoch 19: 0.204025, 0.737583, 0.336776, 0.889046\n",
      "FOLD 1\n",
      "--------------------------------\n",
      "Epoch 0: 0.199955, 0.738167, 0.323358, 0.895944\n",
      "Epoch 1: 0.194704, 0.739767, 0.331542, 0.888880\n",
      "Epoch 2: 0.191493, 0.740217, 0.377307, 0.881898\n",
      "Epoch 3: 0.185230, 0.742567, 0.330569, 0.894365\n",
      "Epoch 4: 0.179325, 0.744300, 0.353880, 0.887716\n",
      "Epoch 5: 0.179652, 0.744050, 0.362078, 0.883976\n",
      "Epoch 6: 0.173271, 0.746450, 0.356948, 0.889212\n",
      "Epoch 7: 0.170577, 0.747683, 0.349543, 0.884807\n",
      "Epoch 8: 0.167235, 0.748050, 0.366890, 0.883561\n",
      "Epoch 9: 0.165276, 0.748583, 0.367102, 0.886802\n",
      "Epoch 10: 0.160424, 0.750133, 0.389794, 0.886802\n",
      "Epoch 11: 0.154244, 0.751900, 0.397043, 0.885306\n",
      "Epoch 12: 0.155990, 0.751317, 0.400196, 0.881566\n",
      "Epoch 13: 0.153409, 0.752633, 0.392681, 0.882729\n",
      "Epoch 14: 0.148691, 0.753633, 0.368853, 0.889628\n",
      "Epoch 15: 0.144873, 0.754567, 0.448103, 0.875083\n",
      "Epoch 16: 0.143718, 0.755567, 0.398915, 0.889960\n",
      "Epoch 17: 0.139527, 0.756433, 0.400570, 0.886469\n",
      "Epoch 18: 0.141244, 0.754950, 0.381016, 0.893700\n",
      "Epoch 19: 0.142561, 0.756867, 0.389081, 0.890957\n",
      "FOLD 2\n",
      "--------------------------------\n",
      "Epoch 0: 0.132736, 0.758033, 0.430928, 0.888464\n",
      "Epoch 1: 0.133962, 0.758200, 0.422044, 0.891207\n",
      "Epoch 2: 0.132237, 0.759350, 0.430378, 0.890708\n",
      "Epoch 3: 0.126423, 0.760350, 0.434603, 0.893451\n",
      "Epoch 4: 0.121214, 0.762083, 0.411856, 0.897191\n",
      "Epoch 5: 0.123765, 0.761600, 0.416931, 0.894781\n",
      "Epoch 6: 0.123336, 0.761717, 0.410007, 0.894033\n",
      "Epoch 7: 0.117376, 0.762850, 0.439112, 0.890376\n",
      "Epoch 8: 0.118873, 0.762917, 0.474929, 0.888132\n",
      "Epoch 9: 0.120489, 0.761750, 0.449953, 0.895362\n",
      "Epoch 10: 0.110532, 0.765983, 0.495475, 0.888381\n",
      "Epoch 11: 0.110003, 0.765400, 0.466347, 0.891041\n",
      "Epoch 12: 0.119431, 0.763350, 0.444320, 0.897025\n",
      "Epoch 13: 0.107288, 0.766417, 0.446888, 0.888381\n",
      "Epoch 14: 0.106918, 0.766683, 0.448180, 0.891789\n",
      "Epoch 15: 0.106210, 0.766817, 0.481504, 0.888713\n",
      "Epoch 16: 0.106765, 0.766500, 0.490836, 0.889295\n",
      "Epoch 17: 0.103146, 0.767950, 0.514787, 0.883311\n",
      "Epoch 18: 0.100023, 0.769050, 0.470133, 0.897274\n",
      "Epoch 19: 0.106735, 0.767233, 0.488274, 0.890293\n",
      "FOLD 3\n",
      "--------------------------------\n",
      "Epoch 0: 0.101349, 0.768833, 0.487161, 0.892121\n",
      "Epoch 1: 0.093640, 0.771183, 0.493908, 0.892703\n",
      "Epoch 2: 0.094276, 0.771033, 0.519725, 0.890043\n",
      "Epoch 3: 0.095693, 0.770417, 0.515734, 0.892370\n",
      "Epoch 4: 0.089582, 0.772600, 0.526500, 0.892537\n",
      "Epoch 5: 0.097373, 0.770333, 0.562164, 0.893866\n",
      "Epoch 6: 0.089461, 0.773150, 0.532234, 0.888049\n",
      "Epoch 7: 0.088654, 0.772400, 0.553670, 0.888963\n",
      "Epoch 8: 0.086589, 0.772383, 0.548480, 0.883311\n",
      "Epoch 9: 0.090833, 0.772300, 0.580709, 0.885389\n",
      "Epoch 10: 0.087247, 0.773067, 0.562347, 0.890542\n",
      "Epoch 11: 0.083235, 0.774667, 0.551756, 0.892786\n",
      "Epoch 12: 0.081308, 0.775317, 0.578487, 0.887384\n",
      "Epoch 13: 0.078975, 0.776167, 0.602034, 0.890708\n",
      "Epoch 14: 0.085158, 0.773967, 0.579427, 0.889545\n",
      "Epoch 15: 0.083612, 0.773817, 0.579637, 0.890126\n",
      "Epoch 16: 0.073349, 0.777500, 0.572752, 0.894448\n",
      "Epoch 17: 0.076203, 0.776750, 0.572650, 0.887550\n",
      "Epoch 18: 0.076955, 0.776200, 0.563571, 0.891872\n",
      "Epoch 19: 0.070218, 0.777983, 0.590178, 0.890293\n",
      "FOLD 4\n",
      "--------------------------------\n",
      "Epoch 0: 0.080346, 0.775533, 0.620375, 0.887633\n",
      "Epoch 1: 0.073661, 0.777467, 0.578502, 0.881400\n",
      "Epoch 2: 0.079128, 0.775633, 0.613476, 0.889378\n",
      "Epoch 3: 0.076345, 0.777500, 0.630568, 0.892453\n",
      "Epoch 4: 0.067221, 0.779450, 0.572440, 0.889461\n",
      "Epoch 5: 0.068191, 0.779217, 0.643612, 0.887134\n",
      "Epoch 6: 0.082338, 0.776083, 0.611142, 0.885971\n",
      "Epoch 7: 0.070182, 0.778500, 0.609284, 0.883893\n",
      "Epoch 8: 0.068847, 0.779817, 0.664384, 0.891207\n",
      "Epoch 9: 0.072419, 0.778133, 0.620795, 0.892287\n",
      "Epoch 10: 0.061746, 0.781400, 0.655204, 0.888464\n",
      "Epoch 11: 0.060991, 0.781617, 0.608968, 0.892287\n",
      "Epoch 12: 0.061291, 0.781100, 0.667957, 0.887051\n",
      "Epoch 13: 0.069368, 0.778883, 0.679805, 0.884475\n",
      "Epoch 14: 0.062898, 0.781183, 0.659712, 0.885472\n",
      "Epoch 15: 0.063868, 0.780167, 0.712669, 0.878740\n",
      "Epoch 16: 0.065887, 0.780100, 0.654107, 0.887965\n",
      "Epoch 17: 0.060216, 0.781600, 0.730840, 0.884807\n",
      "Epoch 18: 0.063854, 0.780467, 0.707985, 0.888049\n",
      "Epoch 19: 0.064950, 0.780717, 0.660311, 0.887965\n"
     ]
    }
   ],
   "source": [
    "for fold, (train_ids, valid_ids) in enumerate(kfold.split(training_data)):\n",
    "\n",
    "    print(f'FOLD {fold}')\n",
    "    print('--------------------------------')    \n",
    "    results[fold] = train_eval(nepochs, model, lr, trainloader, validloader, cost_fn) "
   ]
  },
  {
   "cell_type": "markdown",
   "id": "3275d759-f9a9-42ac-93ae-049787404f0b",
   "metadata": {},
   "source": [
    "### Prepare output plots"
   ]
  },
  {
   "cell_type": "code",
   "execution_count": 17,
   "id": "5805a671-30c6-45bb-b250-f75062864164",
   "metadata": {},
   "outputs": [
    {
     "data": {
      "image/png": "[encoded data removed]",
      "text/plain": [
       "<Figure size 432x288 with 1 Axes>"
      ]
     },
     "metadata": {
      "needs_background": "light"
     },
     "output_type": "display_data"
    }
   ],
   "source": [
    "colors = [\"blue\",\"red\",\"green\",\"orange\"]\n",
    "marker = [\"x\",\"o\",\"m-\",\"g-\",\"y-\"]\n",
    "\n",
    "for i in range(4):\n",
    "    test = torch.FloatTensor(results[i])\n",
    "    plt.plot(torch.arange(nepochs), test[2,:], color = colors[i], marker = \"x\", label = f'FOLD {i+1}')\n",
    "plt.title(\"Accuracy Traing\")\n",
    "plt.xlabel(\"Epochs\")\n",
    "plt.legend()\n",
    "plt.show()"
   ]
  },
  {
   "cell_type": "code",
   "execution_count": 18,
   "id": "598f6b4c-945e-42b3-8672-d4939748ab05",
   "metadata": {},
   "outputs": [
    {
     "data": {
      "image/png": "[encoded data removed]",
      "text/plain": [
       "<Figure size 432x288 with 1 Axes>"
      ]
     },
     "metadata": {
      "needs_background": "light"
     },
     "output_type": "display_data"
    }
   ],
   "source": [
    "colors = [\"blue\",\"red\",\"green\",\"orange\"]\n",
    "marker = [\"x\",\"o\",\"m-\",\"g-\",\"y-\"]\n",
    "\n",
    "for i in range(4):\n",
    "    test = torch.FloatTensor(results[i])\n",
    "    plt.plot(torch.arange(nepochs), test[3,:], color = colors[i], marker = \"x\", label = f'FOLD {i+1}')\n",
    "plt.title(\"Accuracy Validation\")\n",
    "plt.xlabel(\"Epochs\")\n",
    "plt.legend()\n",
    "plt.show()"
   ]
  }
 ],
 "metadata": {
  "kernelspec": {
   "display_name": "Python 3 (ipykernel)",
   "language": "python",
   "name": "python3"
  },
  "language_info": {
   "codemirror_mode": {
    "name": "ipython",
    "version": 3
   },
   "file_extension": ".py",
   "mimetype": "text/x-python",
   "name": "python",
   "nbconvert_exporter": "python",
   "pygments_lexer": "ipython3",
   "version": "3.8.10"
  }
 },
 "nbformat": 4,
 "nbformat_minor": 5
}
