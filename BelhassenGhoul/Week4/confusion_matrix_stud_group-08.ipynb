{
 "cells": [
  {
   "cell_type": "markdown",
   "id": "f6f42b84",
   "metadata": {},
   "source": [
    "**Group-08**<br/>\n",
    "<font style=\"color:red\"> **Belhassen Ghoul <br/> Robin Ehrensperger <br/> Dominic Diedenhofen**</font>"
   ]
  },
  {
   "cell_type": "code",
   "execution_count": 50,
   "id": "a31c6137-13df-484e-8b27-48ecdb388f4e",
   "metadata": {},
   "outputs": [],
   "source": [
    "import torch\n",
    "from torch.utils.data import DataLoader\n",
    "from torchvision import datasets\n",
    "from torchvision.transforms import ToTensor\n",
    "from torchsummary import summary\n",
    "\n",
    "import numpy as np\n",
    "import pandas as pd\n",
    "import matplotlib.pyplot as plt\n",
    "from sklearn.metrics import confusion_matrix\n"
   ]
  },
  {
   "cell_type": "markdown",
   "id": "ead52d0a-0152-484b-b970-1de9e0fab81c",
   "metadata": {},
   "source": [
    "### Load Data\n",
    "\n",
    "For the example's sake we here don't split further in a validation set. Just compute the confusion matrix based on prediction for the test data."
   ]
  },
  {
   "cell_type": "code",
   "execution_count": 51,
   "id": "565fe12c-8ad4-43bb-b6a5-25aeb91ba3c7",
   "metadata": {},
   "outputs": [],
   "source": [
    "training_data = datasets.mnist.MNIST(root=\"data\", train=True, download=True, transform=ToTensor())\n",
    "test_data = datasets.mnist.MNIST(root=\"data\", train=False, download=True, transform=ToTensor())\n",
    "\n",
    "trainloader = DataLoader(training_data, shuffle=True,batch_size=64)\n",
    "testloader = DataLoader(test_data, shuffle=True,batch_size=64)"
   ]
  },
  {
   "cell_type": "markdown",
   "id": "2ee5aa5e-9483-4919-a3fa-94d803c68fcf",
   "metadata": {},
   "source": [
    "### Model\n",
    "\n",
    "Specify your favorite MLP as determined in one of the previous execises."
   ]
  },
  {
   "cell_type": "code",
   "execution_count": 52,
   "id": "fc5c6e6b",
   "metadata": {},
   "outputs": [],
   "source": [
    "class MLP(torch.nn.Module):    \n",
    "    def __init__(self, params):\n",
    "        super(MLP, self).__init__()\n",
    "        self.units = params[1]\n",
    "        self.flatten = torch.nn.Flatten()\n",
    "        self.linear1 = torch.nn.Linear(params[0],params[1])\n",
    "        self.ReLU = torch.nn.ReLU()\n",
    "        self.linear2 = torch.nn.Linear(params[1],params[2])\n",
    "        self.ReLU2 = torch.nn.ReLU()\n",
    "        self.linear3 = torch.nn.Linear(params[2],params[3])\n",
    "\n",
    "    def forward(self, x):\n",
    "        z = self.linear1(self.flatten(x))\n",
    "        z = self.ReLU(z)\n",
    "        z = self.linear2(z)\n",
    "        z = self.ReLU2(z)\n",
    "        return self.linear3(z)"
   ]
  },
  {
   "cell_type": "code",
   "execution_count": 53,
   "id": "553da531-2d78-40f6-9cd4-9d5320588bfd",
   "metadata": {},
   "outputs": [],
   "source": [
    "model = MLP([28*28,200,80,10])"
   ]
  },
  {
   "cell_type": "code",
   "execution_count": 54,
   "id": "a546f61f-3918-4b11-b31f-e6e22656293a",
   "metadata": {},
   "outputs": [
    {
     "name": "stdout",
     "output_type": "stream",
     "text": [
      "----------------------------------------------------------------\n",
      "        Layer (type)               Output Shape         Param #\n",
      "================================================================\n",
      "           Flatten-1                  [-1, 784]               0\n",
      "            Linear-2                  [-1, 200]         157,000\n",
      "              ReLU-3                  [-1, 200]               0\n",
      "            Linear-4                   [-1, 80]          16,080\n",
      "              ReLU-5                   [-1, 80]               0\n",
      "            Linear-6                   [-1, 10]             810\n",
      "================================================================\n",
      "Total params: 173,890\n",
      "Trainable params: 173,890\n",
      "Non-trainable params: 0\n",
      "----------------------------------------------------------------\n",
      "Input size (MB): 0.00\n",
      "Forward/backward pass size (MB): 0.01\n",
      "Params size (MB): 0.66\n",
      "Estimated Total Size (MB): 0.68\n",
      "----------------------------------------------------------------\n"
     ]
    }
   ],
   "source": [
    "summary(model, (1,28,28))"
   ]
  },
  {
   "cell_type": "markdown",
   "id": "e90d8ccd-5306-4912-98ab-cca48e1b7579",
   "metadata": {},
   "source": [
    "### Train-Validate\n",
    "\n",
    "Specify the training / evaluation loop. Specifically, make sure that the confusion matrix is computed at the end of every epoch and remember it. "
   ]
  },
  {
   "cell_type": "code",
   "execution_count": 58,
   "id": "935c445a-2859-41b8-a5df-ebd6b78d8496",
   "metadata": {},
   "outputs": [],
   "source": [
    "def train_eval(nepochs, model, lr, trainloader, testloader, cost_fn):\n",
    "    cost_hist = []\n",
    "    cost_hist_test = []\n",
    "    acc_hist = []\n",
    "    acc_hist_test = []\n",
    "    cm_hist_test = []\n",
    "\n",
    "    optimizer = torch.optim.SGD(model.parameters(), lr=lr)\n",
    "\n",
    "    for epoch in range(nepochs):\n",
    "        model.train()\n",
    "        cost, acc = 0.0, 0.0\n",
    "        for (X, Y) in trainloader:\n",
    "            pred = model(X)\n",
    "            loss = cost_fn(pred, Y)\n",
    "            cost += loss.item()/len(trainloader)\n",
    "            acc += (pred.argmax(dim=1) == Y).type(torch.float).sum().item()/len(trainloader.dataset)\n",
    "\n",
    "            optimizer.zero_grad()\n",
    "            loss.backward()\n",
    "            optimizer.step()\n",
    "        \n",
    "        \n",
    "        \n",
    "        model.eval()\n",
    "        cost_test,acc_test = 0.0,0.0\n",
    "        with torch.no_grad():\n",
    "            for (X,Y) in testloader:\n",
    "                pred = model(X)\n",
    "                cost_test += cost_fn(pred, Y).item()/len(testloader)\n",
    "                acc_test += (pred.argmax(dim=1) == Y).type(torch.float).mean().item()/len(testloader)\n",
    "\n",
    "                \n",
    "        \n",
    "        print(\"Epoch %i: %f, %f, %f, %f\"%(epoch, cost, acc, cost_test, acc_test))\n",
    "        cost_hist.append(cost)\n",
    "        cost_hist_test.append(cost_test)\n",
    "        acc_hist.append(acc)\n",
    "        acc_hist_test.append(acc_test)\n",
    "    \n",
    "\n",
    "        cm = confusion_matrix(Y,pred.argmax(dim=1) )\n",
    "        cm_hist_test.append(cm)\n",
    "\n",
    "        from sklearn.metrics import accuracy_score, recall_score, precision_score\n",
    "\n",
    "        print(\"Accuracy: \", accuracy_score(pred.argmax(dim=1), Y))\n",
    "        print(\"Precision: \", precision_score(pred.argmax(dim=1), Y,average=\"weighted\"))\n",
    "        print(\"Recall: \", recall_score(pred.argmax(dim=1), Y,average=\"weighted\"))\n",
    "                \n",
    "    return cost_hist, cost_hist_test, acc_hist, acc_hist_test, cm_hist_test"
   ]
  },
  {
   "cell_type": "markdown",
   "id": "22935fb4-a75d-4706-9df2-82d802c7fe13",
   "metadata": {},
   "source": [
    "### Select your favourite settings and Do the Training incl Validation Performance"
   ]
  },
  {
   "cell_type": "code",
   "execution_count": 59,
   "id": "bcb6984b-0ed6-449d-a4e2-a9209baf1fdc",
   "metadata": {},
   "outputs": [],
   "source": [
    "# Configuration options\n",
    "nepochs = 20\n",
    "lr = 0.3\n",
    "batchsize = 64\n",
    "cost_fn = torch.nn.CrossEntropyLoss()"
   ]
  },
  {
   "cell_type": "code",
   "execution_count": 60,
   "id": "12d5529f-870f-4178-9f7e-d1a9fdd332bb",
   "metadata": {},
   "outputs": [
    {
     "name": "stdout",
     "output_type": "stream",
     "text": [
      "Epoch 0: 0.107141, 0.966250, 0.098983, 0.968551\n",
      "Accuracy:  0.9375\n",
      "Precision:  0.953125\n",
      "Recall:  0.9375\n",
      "Epoch 1: 0.076607, 0.976467, 0.079493, 0.976115\n",
      "Accuracy:  1.0\n",
      "Precision:  1.0\n",
      "Recall:  1.0\n",
      "Epoch 2: 0.057247, 0.982233, 0.086626, 0.973129\n",
      "Accuracy:  1.0\n",
      "Precision:  1.0\n",
      "Recall:  1.0\n",
      "Epoch 3: 0.042747, 0.986267, 0.080108, 0.976015\n",
      "Accuracy:  1.0\n",
      "Precision:  1.0\n",
      "Recall:  1.0\n",
      "Epoch 4: 0.035426, 0.988617, 0.108109, 0.968153\n",
      "Accuracy:  1.0\n",
      "Precision:  1.0\n",
      "Recall:  1.0\n",
      "Epoch 5: 0.026976, 0.990667, 0.077067, 0.979299\n",
      "Accuracy:  0.9375\n",
      "Precision:  1.0\n",
      "Recall:  0.9375\n"
     ]
    },
    {
     "name": "stderr",
     "output_type": "stream",
     "text": [
      "c:\\Users\\Belg\\Python\\venv\\lib\\site-packages\\sklearn\\metrics\\_classification.py:1318: UndefinedMetricWarning: Recall is ill-defined and being set to 0.0 in labels with no true samples. Use `zero_division` parameter to control this behavior.\n",
      "  _warn_prf(average, modifier, msg_start, len(result))\n"
     ]
    },
    {
     "name": "stdout",
     "output_type": "stream",
     "text": [
      "Epoch 6: 0.021482, 0.993433, 0.134113, 0.963475\n",
      "Accuracy:  0.9375\n",
      "Precision:  0.96875\n",
      "Recall:  0.9375\n",
      "Epoch 7: 0.016490, 0.994817, 0.093891, 0.975816\n",
      "Accuracy:  1.0\n",
      "Precision:  1.0\n",
      "Recall:  1.0\n",
      "Epoch 8: 0.013295, 0.995650, 0.088093, 0.977707\n",
      "Accuracy:  0.8125\n",
      "Precision:  0.8541666666666665\n",
      "Recall:  0.8125\n",
      "Epoch 9: 0.010732, 0.996767, 0.079410, 0.980195\n",
      "Accuracy:  1.0\n",
      "Precision:  1.0\n",
      "Recall:  1.0\n",
      "Epoch 10: 0.006610, 0.998200, 0.079042, 0.981389\n",
      "Accuracy:  0.9375\n",
      "Precision:  0.953125\n",
      "Recall:  0.9375\n",
      "Epoch 11: 0.004640, 0.998750, 0.076683, 0.981588\n",
      "Accuracy:  0.875\n",
      "Precision:  0.9270833333333333\n",
      "Recall:  0.875\n",
      "Epoch 12: 0.002366, 0.999550, 0.082736, 0.981091\n",
      "Accuracy:  1.0\n",
      "Precision:  1.0\n",
      "Recall:  1.0\n",
      "Epoch 13: 0.001722, 0.999667, 0.073604, 0.984076\n",
      "Accuracy:  1.0\n",
      "Precision:  1.0\n",
      "Recall:  1.0\n",
      "Epoch 14: 0.000680, 0.999950, 0.075867, 0.983479\n",
      "Accuracy:  1.0\n",
      "Precision:  1.0\n",
      "Recall:  1.0\n",
      "Epoch 15: 0.000482, 0.999983, 0.076669, 0.983977\n",
      "Accuracy:  1.0\n",
      "Precision:  1.0\n",
      "Recall:  1.0\n",
      "Epoch 16: 0.000376, 1.000000, 0.078160, 0.983579\n",
      "Accuracy:  1.0\n",
      "Precision:  1.0\n",
      "Recall:  1.0\n",
      "Epoch 17: 0.000319, 1.000000, 0.078800, 0.983678\n",
      "Accuracy:  1.0\n",
      "Precision:  1.0\n",
      "Recall:  1.0\n",
      "Epoch 18: 0.000280, 1.000000, 0.078772, 0.983877\n",
      "Accuracy:  1.0\n",
      "Precision:  1.0\n",
      "Recall:  1.0\n",
      "Epoch 19: 0.000254, 1.000000, 0.079426, 0.983778\n",
      "Accuracy:  1.0\n",
      "Precision:  1.0\n",
      "Recall:  1.0\n"
     ]
    }
   ],
   "source": [
    "results = train_eval(nepochs, model, lr, trainloader, testloader, cost_fn) "
   ]
  },
  {
   "cell_type": "markdown",
   "id": "785da602-0910-4feb-875f-f8c7f2b9f999",
   "metadata": {},
   "source": [
    "### Inspect Confusion Matrix\n",
    "\n",
    "In the given implementation below, we use seaborn for depicting the confusion matrix as a heat map. Hence, make sure to have that installed in your environment.\n",
    "\n",
    "Note that the heatmap includes two different color scheme - one for the diagonal, one for the off-diagonal elements. "
   ]
  },
  {
   "cell_type": "code",
   "execution_count": 61,
   "id": "5805a671-30c6-45bb-b250-f75062864164",
   "metadata": {},
   "outputs": [],
   "source": [
    "import seaborn as sn\n",
    "\n",
    "def display_cm(cf_matrix):\n",
    "    plt.figure(figsize = (12,7))\n",
    "    off_diag_mask = np.eye(*cf_matrix.shape, dtype=bool)\n",
    "    cm = cf_matrix / np.sum(cf_matrix) * 10\n",
    "    vmin = np.min(cm[~off_diag_mask])\n",
    "    vmax = np.max(cm[~off_diag_mask])\n",
    "    sn.heatmap(cm, annot=True, mask=off_diag_mask, cmap='OrRd', vmin=vmin, vmax=vmax, cbar_kws=dict(ticks=[]))\n",
    "    vmin = np.min(cm[off_diag_mask])\n",
    "    vmax = np.max(cm[off_diag_mask])\n",
    "    sn.heatmap(cm, annot=True, mask=~off_diag_mask, cmap='Blues', vmin=vmin, vmax=vmax)\n",
    "    #df_cm = pd.DataFrame(cf_matrix/np.sum(cf_matrix) *10, index = [i for i in range(10)], columns = [i for i in range(10)])\n",
    "    #sn.heatmap(df_cm, annot=True, cmap='Blues')\n"
   ]
  },
  {
   "cell_type": "code",
   "execution_count": 62,
   "id": "4c00992a-1595-43a2-b747-20d2754bdc73",
   "metadata": {},
   "outputs": [
    {
     "data": {
      "text/plain": [
       "<Figure size 432x288 with 0 Axes>"
      ]
     },
     "metadata": {},
     "output_type": "display_data"
    },
    {
     "data": {
      "image/png": "[encoded data removed]",
      "text/plain": [
       "<Figure size 864x504 with 3 Axes>"
      ]
     },
     "metadata": {
      "needs_background": "light"
     },
     "output_type": "display_data"
    },
    {
     "data": {
      "image/png": "[encoded data removed]",
      "text/plain": [
       "<Figure size 864x504 with 3 Axes>"
      ]
     },
     "metadata": {
      "needs_background": "light"
     },
     "output_type": "display_data"
    }
   ],
   "source": [
    "plt.figure(1)\n",
    "display_cm(results[4][0])\n",
    "\n",
    "plt.figure(2)\n",
    "display_cm(results[4][19])"
   ]
  },
  {
   "cell_type": "markdown",
   "id": "e1176913-cc95-4299-a5e6-9c4c582eca9a",
   "metadata": {},
   "source": [
    "### Interpret!\n",
    "\n",
    "Analyse how the CM evolves. Indicate what remains a problem for the model to properly classify.\n"
   ]
  },
  {
   "cell_type": "markdown",
   "id": "3d65a7e3",
   "metadata": {},
   "source": [
    "<font style=\"color:red\"> What I can see here from the **confusion matrix** it predicts very well the model works perfect for the Training as well for the test, but in the thest it make one big mistake where it thinks its a 3 but its actual 5 but in general I'm pretty happy with the model </font>"
   ]
  },
  {
   "cell_type": "markdown",
   "id": "c86fbcfc-d293-4197-83ef-b6a611426211",
   "metadata": {},
   "source": [
    "### Compute Accuracy, Precision, Recall\n",
    "<font style=\"color:red\"> The computed Accuracy, precision and recall you will find pinted for each epoche above. </font>"
   ]
  }
 ],
 "metadata": {
  "kernelspec": {
   "display_name": "Python 3 (ipykernel)",
   "language": "python",
   "name": "python3"
  },
  "language_info": {
   "codemirror_mode": {
    "name": "ipython",
    "version": 3
   },
   "file_extension": ".py",
   "mimetype": "text/x-python",
   "name": "python",
   "nbconvert_exporter": "python",
   "pygments_lexer": "ipython3",
   "version": "3.8.10"
  }
 },
 "nbformat": 4,
 "nbformat_minor": 5
}
