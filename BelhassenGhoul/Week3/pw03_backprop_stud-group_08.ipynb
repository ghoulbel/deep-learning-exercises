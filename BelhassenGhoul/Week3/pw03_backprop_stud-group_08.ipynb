{
 "cells": [
  {
   "cell_type": "markdown",
   "id": "7c76f8e4",
   "metadata": {},
   "source": [
    "**Group-08**<br/>\n",
    "<font style=\"color:red\"> **Belhassen Ghoul <br/> Robin Ehrensperger <br/> Dominic Diedenhofen**</font>"
   ]
  },
  {
   "cell_type": "code",
   "execution_count": 24,
   "id": "7d3c3737-73dc-481a-8cf0-afb3657ca3cc",
   "metadata": {},
   "outputs": [],
   "source": [
    "import math\n",
    "import numpy as np\n",
    "import torch\n",
    "import torchvision"
   ]
  },
  {
   "cell_type": "markdown",
   "id": "88de7e72-0814-405b-8c2c-cefa78d66dc0",
   "metadata": {},
   "source": [
    "### Model\n",
    "\n",
    "A Model here consists of a succession of layers.\n",
    "\n",
    "Each layer is implemented as a class with the following API-methods:\n",
    "\n",
    "`forward(torch.tensor)`: Computes the forward pass through the layer, i.e. $x\\rightarrow a$<br> and keeps the information needed for computing the backward pass as member variables. \n",
    "`backward(torch.tensor)`: Computes the backward pass through the layer in form of the derivatives, i.e. $da \\rightarrow dx$. On the fly, it also computes the derivatives w.r.t. the parameters of the layer and keeps them as member variables. It assumes that `forward` method has been run before. <br>\n",
    "`update(lr)`: Updates the parameters of the layer in accordance with vanilla gradient descent and scalar learning rate `lr`. It assumes that the `forward` and the `backward`-pass has been run before.  \n",
    "\n",
    "The tensors defined as inputs to the `forward`/`backward`-method are two dimensional with the sample index in the first and the the feature index in the second dimension. \n",
    "\n",
    "For fully connected layers with activation function $s(\\cdot)$ the formulas are given as follows:"
   ]
  },
  {
   "cell_type": "markdown",
   "id": "10bdbdc5-d75a-416b-a5df-dfd3ef1fca05",
   "metadata": {},
   "source": [
    "__Forward path:__\n",
    "\n",
    "$X_{i,j}$: Tensor with shape $(n_b,n_x)$ where $n_b$ is the number of samples in the batch and $n_x$ the number of input features (for MNIST: 784).\n",
    "\n",
    "$Z_{i,j} = \\sum_k X_{i,k} W_{j,k} \\qquad (Z = X \\cdot W^T + b)$ $\\qquad$ ($W$ a tensor of shape $(n_h,n_x)$)\n",
    "\n",
    "$A_{i,j} = s(Z_{i,j}) \\qquad\\qquad (A = s(Z))$\n",
    "\n",
    "__Backward path:__ (with $n_b$ the number of samples in a batch)\n",
    "\n",
    "$dx_{i,k} = \\frac{\\partial L}{\\partial x_{i,k}} = \\sum_j \\frac{\\partial L}{\\partial a_{i,j}} \\frac{\\partial a_{i,j}}{\\partial x_{i,k}} = \\sum_j da_{i,j} s^\\prime(z_{i,j})\\cdot \\frac{\\partial z_{i,j}}{\\partial x_{i,k}} = \\sum_j da_{i,j} s^\\prime(z_{i,j}) W_{j,k}$<br>\n",
    "\n",
    "$dW_{k,j} = \\frac{\\partial L}{\\partial W_{k,j}} = \\frac{1}{n_b}\\sum_i da_{i,k}\\frac{\\partial a_{i,k}}{\\partial W_{k,j}} = \\frac{1}{n_b}\\sum_j da_{i,k} s^\\prime(z_{i,k}) \\frac{\\partial z_{i,k}}{\\partial W_{k,j}} = \\frac{1}{n_b}\\sum_j da_{i,k} s^\\prime(z_{i,k}) x_{i,j}$<br>\n",
    "\n",
    "\n",
    "\n"
   ]
  },
  {
   "cell_type": "markdown",
   "id": "7ad958e2-bb1e-493f-9c4d-40514e20c479",
   "metadata": {},
   "source": [
    "__Parameter Initialisation__ \n",
    "\n",
    "The parameters need to be initialised which will be a topic later in the course. For now use the following rules: \n",
    "* weights normally distributed with mean $0$ and stdev $1/\\sqrt{n_h}$\n",
    "* bias initialized with zero values"
   ]
  },
  {
   "cell_type": "markdown",
   "id": "6c6d7916-88e9-4cc9-91e8-ec600741370d",
   "metadata": {},
   "source": [
    "#### <span style=\"color:red\">Important Note on the Implementation</span>\n",
    "\n",
    "Make sure that all the tensors used anywhere in the model components below have `requires_grad=False`.\n",
    "Autograd functionality is not allowed for computing the gradients. - Autograd will be used below for testing whether your implementation is correct."
   ]
  },
  {
   "cell_type": "markdown",
   "id": "3eae0f20-6928-481d-96b2-02cbfa298760",
   "metadata": {},
   "source": [
    "### Linear Layer"
   ]
  },
  {
   "cell_type": "code",
   "execution_count": 25,
   "id": "c81dc286-9543-4278-a174-6fbba6be026f",
   "metadata": {},
   "outputs": [],
   "source": [
    "class LinearLayer():\n",
    "    def __init__(self, nx, nh):\n",
    "        \"\"\"\n",
    "        nx -- number of input features, i.e. shape of input tensors x given by (*,nb_input)\n",
    "        nh -- number of output features, i.e. shape of output tensor z given by (*,nb_hidden)\n",
    "        \"\"\"    \n",
    "        self.nx = nx\n",
    "        self.nh = nh\n",
    "        self.w = torch.empty(nh, nx).normal_(0, 1./math.sqrt(self.nh))\n",
    "        self.b = torch.zeros(nh)\n",
    "        self.dw = torch.zeros_like(self.w)\n",
    "        self.db = torch.zeros_like(self.b)\n",
    "        self.x = None\n",
    "        self.dx = None\n",
    "    \n",
    "    def forward(self, x):\n",
    "        \"\"\"\n",
    "        Computes the forward pass through the layer\n",
    "        x -- input tensor\n",
    "        returns z \n",
    "        \"\"\"\n",
    "        ### YOUR CODE START ###\n",
    "        z = torch.matmul(x, self.w.T)+ self.b\n",
    "        return z\n",
    "        ### YOUR CODE END ###\n",
    "    \n",
    "    def backward(self, dz):\n",
    "        \"\"\"\n",
    "        Computes the backward pass through the layer incl. the derivatives w.r.t. input x (dx), weight w (dw) and bias b (db).\n",
    "        dz -- tensor with the backprop'd error signal with the same shape as z.         \n",
    "        returns dx\n",
    "        \"\"\"\n",
    "        assert len(dz.shape)==2 and dz.shape[1] == self.nh\n",
    "        ### YOUR CODE START ###\n",
    "        dx = torch.matmul(dz,self.w)\n",
    "        return dx\n",
    "        ### YOUR CODE END ###\n",
    "            \n",
    "    def update(self, lr):\n",
    "        \"\"\"\n",
    "        Updates the parameters of the model (weights w and bias b) with the gradient w.r.t. w and b and learning rate.\n",
    "        returns None\n",
    "        \"\"\"\n",
    "        ### YOUR CODE START ###\n",
    "        wupdate = torch.matmul(self.z.T, self.dw)\n",
    "        w = w-lr*wupdate\n",
    "        return None        \n",
    "        ### YOUR CODE END ###\n",
    "\n"
   ]
  },
  {
   "cell_type": "markdown",
   "id": "31f9fd5b-a7b6-4a74-bd71-ab9bc1c79263",
   "metadata": {},
   "source": [
    "<span style=\"color:blue\">SHAPE TEST:</span>"
   ]
  },
  {
   "cell_type": "code",
   "execution_count": 26,
   "id": "28d46297-caf7-4b69-bc8f-9b32eb25590d",
   "metadata": {},
   "outputs": [],
   "source": [
    "linear = LinearLayer(3,4)\n",
    "assert (4,3) == linear.w.shape\n",
    "assert (4,)  == linear.b.shape\n",
    "\n",
    "x = torch.tensor([[1.,2,3],[4,5,6]])\n",
    "a = linear.forward(x)\n",
    "assert (2,4) == a.shape\n",
    "\n",
    "dz = torch.tensor([[1.,1,1,1],[2.,2,2,2]])\n",
    "dx = linear.backward(dz)\n",
    "assert (2,3) == dx.shape\n",
    "assert (4,3) == linear.dw.shape"
   ]
  },
  {
   "cell_type": "markdown",
   "id": "656e7383-adf3-4822-9d99-644b9eb33e07",
   "metadata": {},
   "source": [
    "### Activation Function\n",
    "\n",
    "__Sigmoid__"
   ]
  },
  {
   "cell_type": "code",
   "execution_count": 27,
   "id": "ae86ae0a-0382-4349-acb9-6b1e29be36ac",
   "metadata": {
    "tags": []
   },
   "outputs": [],
   "source": [
    "class SigmoidActivation():\n",
    "\n",
    "    def __init__(self):\n",
    "        self.z = None\n",
    "    \n",
    "    def forward(self, z):\n",
    "        ### YOUR CODE START ###\n",
    "        sigmoid = 1/(1+torch.exp(-z))\n",
    "        return sigmoid\n",
    "        ### YOUR CODE END ###\n",
    "\n",
    "    def backward(self, da):\n",
    "        ### YOUR CODE START ###\n",
    "        sigmoid = 1/(1+torch.exp(-da))\n",
    "        return sigmoid*(1-sigmoid)\n",
    "        ### YOUR CODE END ###\n",
    "            \n",
    "    def update(self, lr):\n",
    "        ### YOUR CODE START ###\n",
    "        wupdate = torch.matmul(self.z.T, self.dw)\n",
    "        w = w-lr*wupdate\n",
    "        return None           \n",
    "        ### YOUR CODE END ###\n"
   ]
  },
  {
   "cell_type": "markdown",
   "id": "6d949cda-b92b-4c17-a868-73dec9fd1718",
   "metadata": {},
   "source": [
    "### Model\n",
    "\n",
    "Now implement an MLP as a succession of layers - linear layers and non-linear activation layers.\n",
    "For creating an instance, you will pass the following arguments: \n",
    "* nx: number of input features\n",
    "* nunits: list of number of units in the hidden layers including the output layer\n",
    "\n",
    "Add a list of layers as member variable.\n",
    "\n",
    "Use just a linear layer at the end. Further below we will use a CE loss which is based on the finally output logit values (see lecture of week 2) where the softmax probabilities are implicit."
   ]
  },
  {
   "cell_type": "code",
   "execution_count": 28,
   "id": "ee66c47a-d587-47af-8d10-384a157948f6",
   "metadata": {},
   "outputs": [],
   "source": [
    "class MLP():\n",
    "    \n",
    "    def __init__(self, nx, nunits):\n",
    "        self.nx = nx\n",
    "        self.nlayers = len(nunits)\n",
    "        self.nunits = nunits\n",
    "        self.nunits.insert(0,nx)\n",
    "        self.nclasses = self.nunits[-1]\n",
    "        self.layers = []\n",
    "        \n",
    "        ### YOUR CODE START ###\n",
    "        # instantiate the different layers (linear and activations)\n",
    "        self.flatten = torch.nn.Flatten()\n",
    "\n",
    "        self.layers.append(torch.nn.Linear(self.nx, self.nlayers))\n",
    "        self.layers.append(torch.nn.Sigmoid())\n",
    "        self.layers.append(torch.nn.Linear(self.nlayers,self.nclasses))\n",
    "        self.module_list = torch.nn.ModuleList(self.layers)\n",
    "        ### YOUR CODE END ###\n",
    "\n",
    "    def forward(self, x):\n",
    "        \"\"\"\n",
    "        x - input tensor        \n",
    "        returns output tensor of the model\n",
    "        \"\"\"\n",
    "        ### YOUR CODE START ###\n",
    "        self.x = x\n",
    "        x = self.flatten(x)\n",
    "        for layer in self.module_list:\n",
    "            x = layer(x)\n",
    "        self.yhat = x\n",
    "        return self.yhat\n",
    "        ### YOUR CODE END ###\n",
    "    \n",
    "    def backward(self, dy):\n",
    "        \"\"\"\n",
    "        dy - derivative w.r.t. output tensor\n",
    "        \n",
    "        returns derivative with respect to the input tensor of the model; \n",
    "        on the fly compute all the derivatives w.r.t. parameters of the model\n",
    "        \"\"\"        \n",
    "        ### YOUR CODE START ###\n",
    "        self.W1 = torch.empty(self.nx,self.nlayers)\n",
    "        self.W2 = torch.empty(self.nlayers,self.nclasses)\n",
    "        \n",
    "        self.z = torch.matmul(self.x,self.W1)\n",
    "        self.z21 = 1/(1+np.exp(-self.z))\n",
    "        self.z2 = self.z21*(1-self.z21)\n",
    "        self.z3= torch.matmul(self.z2,self.W2)\n",
    "        \n",
    "        self.dy=dy\n",
    "        \n",
    "        self.z2_error = torch.matmul(dy,self.W2.T)\n",
    "        self.z2_delta = self.z2_error*self.z2*(1-self.z2)\n",
    "\n",
    "        return self.z2_delta\n",
    "        ### YOUR CODE END ###\n",
    "    \n",
    "    def update(self, lr):\n",
    "        \"\"\"\n",
    "        Update the parameters with the given (stored) derivatives w.r.t. model parameters by using the given learning rate. \n",
    "        \"\"\"\n",
    "        ### YOUR CODE START ###\n",
    "        self.zb = torch.matmul(self.z21,self.W2)\n",
    "        self.z2b = 1/(1+np.exp(-self.zb))\n",
    "\n",
    "        E2 = torch.matmul(self.dy, self.W2.T)\n",
    "        dW2 = E2 * self.z21 * (1 - self.z21)\n",
    "\n",
    "        W2_update = torch.matmul(self.z21.T, self.dy) \n",
    "        W1_update = torch.matmul(self.x.T, dW2) \n",
    " \n",
    "        self.W2 = self.W2 - lr * W2_update\n",
    "        self.W1 = self.W1 - lr * W1_update\n",
    "        ### YOUR CODE END ###\n",
    "            "
   ]
  },
  {
   "cell_type": "markdown",
   "id": "1d0859db-1d16-4652-8549-b09fa695602b",
   "metadata": {},
   "source": [
    "<span style=\"color:blue\">SHAPE TEST:</span>"
   ]
  },
  {
   "cell_type": "code",
   "execution_count": 29,
   "id": "6020ece6-ccfe-4242-b72c-4d00c0c1f07e",
   "metadata": {},
   "outputs": [],
   "source": [
    "nx = 2\n",
    "nunits = [3,4]\n",
    "mlp = MLP(nx,nunits)\n",
    "assert 3 == len(mlp.layers)\n",
    "\n",
    "x = torch.tensor([[1.,2],[3,4]])\n",
    "a = mlp.forward(x)\n",
    "assert (2,4) == a.shape\n",
    "\n",
    "da = torch.tensor([[1.,1,1,1],[2.,2,2,2]])\n",
    "dx = mlp.backward(da)\n",
    "assert (2,2) == dx.shape\n",
    "\n",
    "nx = 2\n",
    "nunits = [3,4]\n",
    "mlp = MLP(nx,nunits)\n",
    "assert 3 == len(mlp.layers)\n",
    "\n",
    "x = torch.tensor([[1.,2],[3,4]])\n",
    "a = mlp.forward(x)\n",
    "assert (2,4) == a.shape\n",
    "\n",
    "da = torch.tensor([[1.,1,1,1],[2.,2,2,2]])\n",
    "dx = mlp.backward(da)\n",
    "assert (2,2) == dx.shape"
   ]
  },
  {
   "cell_type": "markdown",
   "id": "c08f5f56-97d9-47c3-b0c8-ee3699c2eaca",
   "metadata": {},
   "source": [
    "### Regression Test\n",
    "\n",
    "Create a regression testing that allows you to test your implementation by regressing against the gradients computed by pytorch's autograd.\n",
    "\n",
    "Below you find two functions that may be helpful in \n",
    "1. creating a reference model from the given model - makes sure that in the reference model the exact same initialized parameters are used; furthermore, that teh parameters of the linear layers (w,b) are specified as tensors with `requires_grad=True`. \n",
    "2. comparing the derivatives w.r.t. parameters for model and refmodel. It assumes that for both, model and refmodel, backprop has been executed. For the model, it means that `backward()`has been executed - for the ref model, only `forward` has been executed, but `backward` applied to the output tensor of the refmodel. For the remodel, we use `grad` of the weights and bias tensors, for the model the parameters `dw` and `db` as basis for the comparison.\n",
    "\n",
    "<span style=\"color:red\">Adjust these methods to make them compliant with your model - it uses internals of our implementation.</span>"
   ]
  },
  {
   "cell_type": "code",
   "execution_count": 30,
   "id": "3e33f3c4-ab4a-4271-9d5f-39cc9f53ccc4",
   "metadata": {},
   "outputs": [],
   "source": [
    "def create_refmodel(model):\n",
    "    refmodel = MLP(model.nx, model.nunits[1:])\n",
    "    for i,layer in enumerate(model.layers):\n",
    "        if isinstance(layer, LinearLayer):\n",
    "            refmodel.layers[i].w = model.layers[i].w.detach().clone()\n",
    "            refmodel.layers[i].w.requires_grad_()\n",
    "            refmodel.layers[i].b = model.layers[i].b.detach().clone()\n",
    "            refmodel.layers[i].b.requires_grad_()\n",
    "    return refmodel\n",
    "\n",
    "def test_params(model, refmodel, digits=8):\n",
    "    for i,layer in enumerate(model.layers):\n",
    "        if isinstance(layer, LinearLayer):\n",
    "            try:\n",
    "                xxref = refmodel.layers[i].w.grad.detach().numpy()\n",
    "                xx = model.layers[i].dw.numpy()\n",
    "                np.testing.assert_array_almost_equal(xx, xxref, decimal=digits, err_msg=\"Error: layer %i\"%i)\n",
    "                xxref = refmodel.layers[i].b.grad.detach().numpy()\n",
    "                xx = model.layers[i].db.numpy()\n",
    "                np.testing.assert_array_almost_equal(xx, xxref, decimal=digits, err_msg=\"Error: layer %i\"%i)\n",
    "\n",
    "            except Exception as e:\n",
    "                print(\"test failed - reason:\",e) \n",
    "    "
   ]
  },
  {
   "cell_type": "markdown",
   "id": "3baf6929-9a82-4ec6-94d1-90ccad1752e0",
   "metadata": {},
   "source": [
    "<span style=\"color:blue\"> REGRESSION TEST</span>"
   ]
  },
  {
   "cell_type": "code",
   "execution_count": 31,
   "id": "f80d2e20-4fb6-4ed9-ab7f-670d9aca8b1a",
   "metadata": {},
   "outputs": [],
   "source": [
    "# inputs\n",
    "nx = 10\n",
    "x = torch.randn(nx).reshape(-1,nx)\n",
    "\n",
    "# model instance\n",
    "nunits = [20,40,1]\n",
    "mlp = MLP(nx,nunits)\n",
    "\n",
    "# forward and backward pass\n",
    "z = mlp.forward(x)\n",
    "dz = torch.tensor([1.,1.]).reshape(-1,1)\n",
    "dx = mlp.backward(dz)\n",
    "\n",
    "# create ref model\n",
    "mlpref = create_refmodel(mlp)\n",
    "\n",
    "# only use the forward method of the ref model - and apply backward to the output tensor.\n",
    "zref = mlpref.forward(x) \n",
    "zref.backward()\n",
    "\n",
    "# compare the derivatives computed by your model with the grad computed by pytorch's autograd\n",
    "test_params(mlp, mlpref, digits=7)"
   ]
  },
  {
   "cell_type": "markdown",
   "id": "468d6187-bbbd-4bf1-ae3f-929342eeb39d",
   "metadata": {},
   "source": [
    "### Cost \n",
    "\n",
    "Use the cross-entropy cost function directly defined on the basis of the logits - which implicitly includes a softmax calculation (see lecture notes of week 2)."
   ]
  },
  {
   "cell_type": "code",
   "execution_count": 32,
   "id": "f26dbc1b-697b-46cd-94de-d78e701921f4",
   "metadata": {},
   "outputs": [],
   "source": [
    "class CELoss():\n",
    "    \n",
    "    def value(self, z, y):\n",
    "        \"\"\"\n",
    "        z -- tensor of shape (number of samples, number of classes) with the final logits of the model. \n",
    "        y -- tensor of shape (number of samples) with the label values.\n",
    "        \"\"\"\n",
    "        ### YOUR CODE START ###\n",
    "        cost = torch.nn.CrossEntropyLoss()\n",
    "        loss = torch.mean(cost(z,y))*y.shape[0]\n",
    "        return loss\n",
    "\n",
    "        \"\"\"m = y.shape[0]\n",
    "        exp = np.exp(z)   \n",
    "        p = exp/(torch.sum(exp))\n",
    "        log_likelihood = -torch.log(p[range(m),y])\n",
    "        loss = torch.sum(log_likelihood) \n",
    "        return loss\"\"\"\n",
    "        ### YOUR CODE END ###\n",
    "\n",
    "    def derivative(self, z, y):\n",
    "        ### YOUR CODE START ###\n",
    "        softmax = torch.softmax(z,1)\n",
    "\n",
    "        m = y.shape[0]\n",
    "        grad = softmax\n",
    "        grad[range(m),y] -= 1\n",
    "        grad = grad\n",
    "        return grad\n",
    "        ### YOUR CODE END ###\n",
    "\n",
    "        "
   ]
  },
  {
   "cell_type": "code",
   "execution_count": 33,
   "id": "9e9e731f-7163-4cc9-a5b0-5c2a000ef8d9",
   "metadata": {},
   "outputs": [],
   "source": [
    "loss = CELoss()\n",
    "ypred = torch.log(torch.tensor([[0.5,0.4,0.1],[0.2,0.1,0.7]])).reshape(-1,3) # -> logits z\n",
    "y = torch.tensor([1,2]).reshape(-1)\n",
    "np.testing.assert_almost_equal(loss.value(ypred,y), -torch.log(torch.tensor([0.4,0.7])).sum(), decimal=8)\n",
    "np.testing.assert_array_almost_equal(loss.derivative(ypred,y), torch.tensor([[ 0.5000, -0.6000,  0.1000],[ 0.2000,  0.1000, -0.3000]]), decimal=8)"
   ]
  },
  {
   "cell_type": "markdown",
   "id": "648ab724-6516-47ec-9aad-8a2a99a1e78f",
   "metadata": {},
   "source": [
    "### Load Data\n",
    "\n",
    "As in previous' week PW. "
   ]
  },
  {
   "cell_type": "code",
   "execution_count": 34,
   "id": "da6cb457-1da9-4c14-83c2-345dfe0bf29e",
   "metadata": {},
   "outputs": [],
   "source": [
    "from torch.utils.data import Dataset, DataLoader\n",
    "from torchvision import datasets\n",
    "from torchvision.transforms import ToTensor\n",
    "import matplotlib.pyplot as plt"
   ]
  },
  {
   "cell_type": "code",
   "execution_count": 35,
   "id": "b8a76b89-ea2c-4e26-a43d-874ca5b75e04",
   "metadata": {},
   "outputs": [],
   "source": [
    "train_data = datasets.MNIST(\n",
    "    root=\"data\",\n",
    "    train=True,\n",
    "    download=True,\n",
    "    transform=ToTensor()\n",
    ")\n",
    "test_data = datasets.MNIST(\n",
    "    root=\"data\",\n",
    "    train=False,\n",
    "    download=True,\n",
    "    transform=ToTensor()\n",
    ")"
   ]
  },
  {
   "cell_type": "markdown",
   "id": "795f7fbd-b5fe-432d-b59e-732154aea809",
   "metadata": {
    "tags": []
   },
   "source": [
    "### Training Loop\n",
    "\n",
    "Implement mini-batch gradient descent training loop. \n",
    "\n",
    "With the implementation of the two methods below you will be able to train and test the MLP:\n",
    "* train_epoch: for training the model over one epoch with per mini-batch updates\n",
    "* test_epoch: for evaluating the test/validation performance per epoch."
   ]
  },
  {
   "cell_type": "code",
   "execution_count": 36,
   "id": "69d69729-6a94-45a6-b6c6-9ecc7d4f2f9c",
   "metadata": {
    "tags": []
   },
   "outputs": [],
   "source": [
    "def train_epoch(model, loss, dataloader, lr):\n",
    "    \"\"\"\n",
    "    Iterate over the mini-batches of one epoch, compute per mini-batch the forward and backward pass \n",
    "    and update the parameters. Also compute the loss and accuracy as an average over the epoch. \n",
    "    Note that this average includes per mini-batch updated model predictions and parameter updates.\n",
    "    model -- model to be trained\n",
    "    loss -- loss function to be used \n",
    "    dataloader -- data loader that provides mini-batches (from the training set)\n",
    "    lr -- learning rate to be used in the parameter updates     \n",
    "    returns loss, accuracy \n",
    "    \"\"\"\n",
    "    ### YOUR CODE START ###\n",
    "    nsamples = len(dataloader.dataset)\n",
    "    trainloss, correct = 0.0, 0\n",
    "    for X, y in dataloader:\n",
    "        batchsize = X.shape[0]\n",
    "        X = X.view(batchsize, -1)\n",
    "        z = model.forward(X)\n",
    "        batchloss = loss.value(z, y)\n",
    "        trainloss += batchloss.item()\n",
    "        correct += (z.argmax(dim=1) == y).type(torch.float).sum().item()\n",
    "\n",
    "        # Backpropagation\n",
    "        dz = loss.derivative(z,y)\n",
    "        dx = model.backward(dz)\n",
    "        model.update(lr)\n",
    "    trainloss /= nsamples\n",
    "    correct /= nsamples\n",
    "    return trainloss, correct\n",
    "    ### YOUR CODE START ###\n",
    "\n",
    "\n",
    "def test_epoch(model, loss, dataloader):\n",
    "    \"\"\"\n",
    "    Iterate over the mini-batches of one epoch of the test set. Iterates over the mini-batches of the test set.\n",
    "    Estimates loss and accuracy as an average over the test (validation) set. The model is not updates here. \n",
    "    model -- model to be evaluated\n",
    "    loss -- loss function to be evaluated \n",
    "    dataloader -- data loader that provides mini-batches (from the test/validation set)\n",
    "    returns loss, accuracy \n",
    "    \"\"\"\n",
    "    nsamples = len(dataloader.dataset)\n",
    "    testloss, correct = 0.0, 0\n",
    "    for X, y in dataloader:\n",
    "        batchsize = X.shape[0]\n",
    "        X = X.view(batchsize, -1)\n",
    "        z = model.forward(X)\n",
    "        testloss += loss.value(z, y)\n",
    "        correct += (z.argmax(dim=1) == y).type(torch.float).sum().item()\n",
    "\n",
    "    testloss /= nsamples\n",
    "    correct /= nsamples\n",
    "    return testloss, correct\n"
   ]
  },
  {
   "cell_type": "markdown",
   "id": "4d2c7fe4-5c5f-40d4-a7b2-8f650140094f",
   "metadata": {},
   "source": [
    "### First Simple Check: Overfitting on Single Sample\n",
    "\n",
    "Load an arbitrary mini-batch from the training set. Train the model by using just this mini-batch.\n",
    "This is another test for checking whether your implementation is capable of learning something (see remark in week 2 of the course)."
   ]
  },
  {
   "cell_type": "code",
   "execution_count": 37,
   "id": "73f29756-4bba-473e-83e9-17996fe1b07a",
   "metadata": {},
   "outputs": [
    {
     "name": "stdout",
     "output_type": "stream",
     "text": [
      "torch.Size([64, 1, 28, 28]) torch.Size([64])\n"
     ]
    }
   ],
   "source": [
    "sample_batch, _ = torch.utils.data.random_split(train_data, [64, 60000-64])\n",
    "train_loader = DataLoader(sample_batch, batch_size=64, shuffle=False) # shuffling not needed since only one batch is used.\n",
    "\n",
    "sample_x,sample_y = next(iter(train_loader))\n",
    "print(sample_x.shape,sample_y.shape)"
   ]
  },
  {
   "cell_type": "code",
   "execution_count": 38,
   "id": "9c9c8561-8484-48b2-9369-075f076fa983",
   "metadata": {
    "tags": []
   },
   "outputs": [
    {
     "name": "stdout",
     "output_type": "stream",
     "text": [
      "Epoch: 0, Train Accuracy: 10.9%, Train Loss: 2.445499\n",
      "Epoch: 10, Train Accuracy: 10.9%, Train Loss: 2.445499\n",
      "Epoch: 20, Train Accuracy: 10.9%, Train Loss: 2.445499\n",
      "Epoch: 30, Train Accuracy: 10.9%, Train Loss: 2.445499\n",
      "Epoch: 40, Train Accuracy: 10.9%, Train Loss: 2.445499\n",
      "Epoch: 50, Train Accuracy: 10.9%, Train Loss: 2.445499\n",
      "Epoch: 60, Train Accuracy: 10.9%, Train Loss: 2.445499\n",
      "Epoch: 70, Train Accuracy: 10.9%, Train Loss: 2.445499\n",
      "Epoch: 80, Train Accuracy: 10.9%, Train Loss: 2.445499\n",
      "Epoch: 90, Train Accuracy: 10.9%, Train Loss: 2.445499\n"
     ]
    }
   ],
   "source": [
    "epochs = 100\n",
    "lr = 1.0\n",
    "mlp = MLP(28*28, [100, 10])\n",
    "mseloss = CELoss()\n",
    "trainlosses = []\n",
    "trainaccs = []\n",
    "for t in range(epochs):\n",
    "    trainloss, trainacc = train_epoch(mlp, mseloss, train_loader, lr)\n",
    "    trainlosses.append(trainloss)\n",
    "    trainaccs.append(trainacc)\n",
    "    if t%10==0:\n",
    "        print(f\"Epoch: {t}, Train Accuracy: {(100*trainacc):>0.1f}%, Train Loss: {trainloss:>8f}\")"
   ]
  },
  {
   "cell_type": "code",
   "execution_count": 39,
   "id": "2464995e-355c-4562-8619-7dea93e5d8ec",
   "metadata": {},
   "outputs": [
    {
     "data": {
      "text/plain": [
       "Text(0.5, 1.0, 'Train Accuracy')"
      ]
     },
     "execution_count": 39,
     "metadata": {},
     "output_type": "execute_result"
    },
    {
     "data": {
      "image/png": "[encoded data removed]",
      "text/plain": [
       "<Figure size 432x288 with 1 Axes>"
      ]
     },
     "metadata": {
      "needs_background": "light"
     },
     "output_type": "display_data"
    },
    {
     "data": {
      "image/png": "[encoded data removed]",
      "text/plain": [
       "<Figure size 432x288 with 1 Axes>"
      ]
     },
     "metadata": {
      "needs_background": "light"
     },
     "output_type": "display_data"
    }
   ],
   "source": [
    "plt.figure(1)\n",
    "plt.plot(torch.arange(epochs), trainlosses,\"b-\")\n",
    "plt.title(\"Train Loss\")\n",
    "\n",
    "plt.figure(2)\n",
    "plt.plot(torch.arange(epochs), trainaccs,\"b-\")\n",
    "plt.ylim([0.0,1])\n",
    "plt.title(\"Train Accuracy\")"
   ]
  },
  {
   "cell_type": "markdown",
   "id": "4d366251-a20b-4aac-bc33-a4c09607078c",
   "metadata": {
    "tags": []
   },
   "source": [
    "### Training with all the training set"
   ]
  },
  {
   "cell_type": "code",
   "execution_count": 40,
   "id": "32f164c3-0e81-478d-ac9e-c5770d55075c",
   "metadata": {},
   "outputs": [],
   "source": [
    "train_loader = DataLoader(train_data, batch_size=64, shuffle=True)\n",
    "test_loader = DataLoader(test_data, batch_size=64, shuffle=True)"
   ]
  },
  {
   "cell_type": "code",
   "execution_count": 41,
   "id": "8ad2ab4f-b355-4fd3-9fad-7f27d3bd3a06",
   "metadata": {},
   "outputs": [
    {
     "name": "stderr",
     "output_type": "stream",
     "text": [
      "C:\\Users\\Belg\\AppData\\Local\\Temp\\ipykernel_9300\\2163287869.py:65: RuntimeWarning: overflow encountered in exp\n",
      "  self.z2b = 1/(1+np.exp(-self.zb))\n",
      "C:\\Users\\Belg\\AppData\\Local\\Temp\\ipykernel_9300\\2163287869.py:47: RuntimeWarning: overflow encountered in exp\n",
      "  self.z21 = 1/(1+np.exp(-self.z))\n"
     ]
    },
    {
     "name": "stdout",
     "output_type": "stream",
     "text": [
      "Epoch: 0, Train Accuracy: 9.7%, Train Loss: 2.418467, Test Accuracy: 9.8%, Test Loss: 2.417007\n"
     ]
    },
    {
     "ename": "KeyboardInterrupt",
     "evalue": "",
     "output_type": "error",
     "traceback": [
      "\u001b[1;31m---------------------------------------------------------------------------\u001b[0m",
      "\u001b[1;31mKeyboardInterrupt\u001b[0m                         Traceback (most recent call last)",
      "\u001b[1;32mc:\\Users\\Belg\\OneDrive - OST\\Master's\\02_Semester\\TSM_DeLearn\\tsm-delearn\\Exercise\\Week3\\pw03_backprop_stud-group_08.ipynb Cell 35'\u001b[0m in \u001b[0;36m<module>\u001b[1;34m\u001b[0m\n\u001b[0;32m      <a href='vscode-notebook-cell:/c%3A/Users/Belg/OneDrive%20-%20OST/Master%27s/02_Semester/TSM_DeLearn/tsm-delearn/Exercise/Week3/pw03_backprop_stud-group_08.ipynb#ch0000034?line=5'>6</a>\u001b[0m trainaccs, testaccs \u001b[39m=\u001b[39m [],[]\n\u001b[0;32m      <a href='vscode-notebook-cell:/c%3A/Users/Belg/OneDrive%20-%20OST/Master%27s/02_Semester/TSM_DeLearn/tsm-delearn/Exercise/Week3/pw03_backprop_stud-group_08.ipynb#ch0000034?line=7'>8</a>\u001b[0m \u001b[39mfor\u001b[39;00m epoch \u001b[39min\u001b[39;00m \u001b[39mrange\u001b[39m(epochs):\n\u001b[1;32m----> <a href='vscode-notebook-cell:/c%3A/Users/Belg/OneDrive%20-%20OST/Master%27s/02_Semester/TSM_DeLearn/tsm-delearn/Exercise/Week3/pw03_backprop_stud-group_08.ipynb#ch0000034?line=8'>9</a>\u001b[0m     trainloss, trainacc \u001b[39m=\u001b[39m train_epoch(mlp, mseloss, train_loader, lr)\n\u001b[0;32m     <a href='vscode-notebook-cell:/c%3A/Users/Belg/OneDrive%20-%20OST/Master%27s/02_Semester/TSM_DeLearn/tsm-delearn/Exercise/Week3/pw03_backprop_stud-group_08.ipynb#ch0000034?line=9'>10</a>\u001b[0m     testloss, testacc \u001b[39m=\u001b[39m test_epoch(mlp, mseloss, test_loader)\n\u001b[0;32m     <a href='vscode-notebook-cell:/c%3A/Users/Belg/OneDrive%20-%20OST/Master%27s/02_Semester/TSM_DeLearn/tsm-delearn/Exercise/Week3/pw03_backprop_stud-group_08.ipynb#ch0000034?line=10'>11</a>\u001b[0m     trainlosses\u001b[39m.\u001b[39mappend(trainloss)\n",
      "\u001b[1;32mc:\\Users\\Belg\\OneDrive - OST\\Master's\\02_Semester\\TSM_DeLearn\\tsm-delearn\\Exercise\\Week3\\pw03_backprop_stud-group_08.ipynb Cell 28'\u001b[0m in \u001b[0;36mtrain_epoch\u001b[1;34m(model, loss, dataloader, lr)\u001b[0m\n\u001b[0;32m     <a href='vscode-notebook-cell:/c%3A/Users/Belg/OneDrive%20-%20OST/Master%27s/02_Semester/TSM_DeLearn/tsm-delearn/Exercise/Week3/pw03_backprop_stud-group_08.ipynb#ch0000027?line=23'>24</a>\u001b[0m     dz \u001b[39m=\u001b[39m loss\u001b[39m.\u001b[39mderivative(z,y)\n\u001b[0;32m     <a href='vscode-notebook-cell:/c%3A/Users/Belg/OneDrive%20-%20OST/Master%27s/02_Semester/TSM_DeLearn/tsm-delearn/Exercise/Week3/pw03_backprop_stud-group_08.ipynb#ch0000027?line=24'>25</a>\u001b[0m     dx \u001b[39m=\u001b[39m model\u001b[39m.\u001b[39mbackward(dz)\n\u001b[1;32m---> <a href='vscode-notebook-cell:/c%3A/Users/Belg/OneDrive%20-%20OST/Master%27s/02_Semester/TSM_DeLearn/tsm-delearn/Exercise/Week3/pw03_backprop_stud-group_08.ipynb#ch0000027?line=25'>26</a>\u001b[0m     model\u001b[39m.\u001b[39;49mupdate(lr)\n\u001b[0;32m     <a href='vscode-notebook-cell:/c%3A/Users/Belg/OneDrive%20-%20OST/Master%27s/02_Semester/TSM_DeLearn/tsm-delearn/Exercise/Week3/pw03_backprop_stud-group_08.ipynb#ch0000027?line=26'>27</a>\u001b[0m trainloss \u001b[39m/\u001b[39m\u001b[39m=\u001b[39m nsamples\n\u001b[0;32m     <a href='vscode-notebook-cell:/c%3A/Users/Belg/OneDrive%20-%20OST/Master%27s/02_Semester/TSM_DeLearn/tsm-delearn/Exercise/Week3/pw03_backprop_stud-group_08.ipynb#ch0000027?line=27'>28</a>\u001b[0m correct \u001b[39m/\u001b[39m\u001b[39m=\u001b[39m nsamples\n",
      "\u001b[1;32mc:\\Users\\Belg\\OneDrive - OST\\Master's\\02_Semester\\TSM_DeLearn\\tsm-delearn\\Exercise\\Week3\\pw03_backprop_stud-group_08.ipynb Cell 14'\u001b[0m in \u001b[0;36mMLP.update\u001b[1;34m(self, lr)\u001b[0m\n\u001b[0;32m     <a href='vscode-notebook-cell:/c%3A/Users/Belg/OneDrive%20-%20OST/Master%27s/02_Semester/TSM_DeLearn/tsm-delearn/Exercise/Week3/pw03_backprop_stud-group_08.ipynb#ch0000013?line=64'>65</a>\u001b[0m \u001b[39mself\u001b[39m\u001b[39m.\u001b[39mz2b \u001b[39m=\u001b[39m \u001b[39m1\u001b[39m\u001b[39m/\u001b[39m(\u001b[39m1\u001b[39m\u001b[39m+\u001b[39mnp\u001b[39m.\u001b[39mexp(\u001b[39m-\u001b[39m\u001b[39mself\u001b[39m\u001b[39m.\u001b[39mzb))\n\u001b[0;32m     <a href='vscode-notebook-cell:/c%3A/Users/Belg/OneDrive%20-%20OST/Master%27s/02_Semester/TSM_DeLearn/tsm-delearn/Exercise/Week3/pw03_backprop_stud-group_08.ipynb#ch0000013?line=66'>67</a>\u001b[0m E2 \u001b[39m=\u001b[39m torch\u001b[39m.\u001b[39mmatmul(\u001b[39mself\u001b[39m\u001b[39m.\u001b[39mdy, \u001b[39mself\u001b[39m\u001b[39m.\u001b[39mW2\u001b[39m.\u001b[39mT)\n\u001b[1;32m---> <a href='vscode-notebook-cell:/c%3A/Users/Belg/OneDrive%20-%20OST/Master%27s/02_Semester/TSM_DeLearn/tsm-delearn/Exercise/Week3/pw03_backprop_stud-group_08.ipynb#ch0000013?line=67'>68</a>\u001b[0m dW2 \u001b[39m=\u001b[39m E2 \u001b[39m*\u001b[39m \u001b[39mself\u001b[39m\u001b[39m.\u001b[39mz21 \u001b[39m*\u001b[39m (\u001b[39m1\u001b[39;49m \u001b[39m-\u001b[39;49m \u001b[39mself\u001b[39;49m\u001b[39m.\u001b[39;49mz21)\n\u001b[0;32m     <a href='vscode-notebook-cell:/c%3A/Users/Belg/OneDrive%20-%20OST/Master%27s/02_Semester/TSM_DeLearn/tsm-delearn/Exercise/Week3/pw03_backprop_stud-group_08.ipynb#ch0000013?line=69'>70</a>\u001b[0m W2_update \u001b[39m=\u001b[39m torch\u001b[39m.\u001b[39mmatmul(\u001b[39mself\u001b[39m\u001b[39m.\u001b[39mz21\u001b[39m.\u001b[39mT, \u001b[39mself\u001b[39m\u001b[39m.\u001b[39mdy) \n\u001b[0;32m     <a href='vscode-notebook-cell:/c%3A/Users/Belg/OneDrive%20-%20OST/Master%27s/02_Semester/TSM_DeLearn/tsm-delearn/Exercise/Week3/pw03_backprop_stud-group_08.ipynb#ch0000013?line=70'>71</a>\u001b[0m W1_update \u001b[39m=\u001b[39m torch\u001b[39m.\u001b[39mmatmul(\u001b[39mself\u001b[39m\u001b[39m.\u001b[39mx\u001b[39m.\u001b[39mT, dW2) \n",
      "File \u001b[1;32m~\\AppData\\Local\\Packages\\PythonSoftwareFoundation.Python.3.8_qbz5n2kfra8p0\\LocalCache\\local-packages\\Python38\\site-packages\\torch\\_tensor.py:30\u001b[0m, in \u001b[0;36m_wrap_type_error_to_not_implemented.<locals>.wrapped\u001b[1;34m(*args, **kwargs)\u001b[0m\n\u001b[0;32m     <a href='file:///c%3A/Users/Belg/AppData/Local/Packages/PythonSoftwareFoundation.Python.3.8_qbz5n2kfra8p0/LocalCache/local-packages/Python38/site-packages/torch/_tensor.py?line=27'>28</a>\u001b[0m     \u001b[39mreturn\u001b[39;00m handle_torch_function(wrapped, args, \u001b[39m*\u001b[39margs, \u001b[39m*\u001b[39m\u001b[39m*\u001b[39mkwargs)\n\u001b[0;32m     <a href='file:///c%3A/Users/Belg/AppData/Local/Packages/PythonSoftwareFoundation.Python.3.8_qbz5n2kfra8p0/LocalCache/local-packages/Python38/site-packages/torch/_tensor.py?line=28'>29</a>\u001b[0m \u001b[39mtry\u001b[39;00m:\n\u001b[1;32m---> <a href='file:///c%3A/Users/Belg/AppData/Local/Packages/PythonSoftwareFoundation.Python.3.8_qbz5n2kfra8p0/LocalCache/local-packages/Python38/site-packages/torch/_tensor.py?line=29'>30</a>\u001b[0m     \u001b[39mreturn\u001b[39;00m f(\u001b[39m*\u001b[39;49margs, \u001b[39m*\u001b[39;49m\u001b[39m*\u001b[39;49mkwargs)\n\u001b[0;32m     <a href='file:///c%3A/Users/Belg/AppData/Local/Packages/PythonSoftwareFoundation.Python.3.8_qbz5n2kfra8p0/LocalCache/local-packages/Python38/site-packages/torch/_tensor.py?line=30'>31</a>\u001b[0m \u001b[39mexcept\u001b[39;00m \u001b[39mTypeError\u001b[39;00m:\n\u001b[0;32m     <a href='file:///c%3A/Users/Belg/AppData/Local/Packages/PythonSoftwareFoundation.Python.3.8_qbz5n2kfra8p0/LocalCache/local-packages/Python38/site-packages/torch/_tensor.py?line=31'>32</a>\u001b[0m     \u001b[39mreturn\u001b[39;00m \u001b[39mNotImplemented\u001b[39m\n",
      "File \u001b[1;32m~\\AppData\\Local\\Packages\\PythonSoftwareFoundation.Python.3.8_qbz5n2kfra8p0\\LocalCache\\local-packages\\Python38\\site-packages\\torch\\_tensor.py:548\u001b[0m, in \u001b[0;36mTensor.__rsub__\u001b[1;34m(self, other)\u001b[0m\n\u001b[0;32m    <a href='file:///c%3A/Users/Belg/AppData/Local/Packages/PythonSoftwareFoundation.Python.3.8_qbz5n2kfra8p0/LocalCache/local-packages/Python38/site-packages/torch/_tensor.py?line=545'>546</a>\u001b[0m \u001b[39mif\u001b[39;00m has_torch_function_variadic(\u001b[39mself\u001b[39m, other):\n\u001b[0;32m    <a href='file:///c%3A/Users/Belg/AppData/Local/Packages/PythonSoftwareFoundation.Python.3.8_qbz5n2kfra8p0/LocalCache/local-packages/Python38/site-packages/torch/_tensor.py?line=546'>547</a>\u001b[0m     \u001b[39mreturn\u001b[39;00m handle_torch_function(Tensor\u001b[39m.\u001b[39m\u001b[39m__rsub__\u001b[39m, (\u001b[39mself\u001b[39m, other), \u001b[39mself\u001b[39m, other)\n\u001b[1;32m--> <a href='file:///c%3A/Users/Belg/AppData/Local/Packages/PythonSoftwareFoundation.Python.3.8_qbz5n2kfra8p0/LocalCache/local-packages/Python38/site-packages/torch/_tensor.py?line=547'>548</a>\u001b[0m \u001b[39mreturn\u001b[39;00m _C\u001b[39m.\u001b[39;49m_VariableFunctions\u001b[39m.\u001b[39;49mrsub(\u001b[39mself\u001b[39;49m, other)\n",
      "\u001b[1;31mKeyboardInterrupt\u001b[0m: "
     ]
    }
   ],
   "source": [
    "epochs = 10\n",
    "lr = 1.0\n",
    "mlp = MLP(28*28, [100,10])\n",
    "mseloss = CELoss()\n",
    "trainlosses, testlosses = [],[]\n",
    "trainaccs, testaccs = [],[]\n",
    "\n",
    "for epoch in range(epochs):\n",
    "    trainloss, trainacc = train_epoch(mlp, mseloss, train_loader, lr)\n",
    "    testloss, testacc = test_epoch(mlp, mseloss, test_loader)\n",
    "    trainlosses.append(trainloss)\n",
    "    testlosses.append(testloss)\n",
    "    trainaccs.append(trainacc)\n",
    "    testaccs.append(testacc)\n",
    "    print(f\"Epoch: {epoch}, Train Accuracy: {(100*trainacc):>0.1f}%, Train Loss: {trainloss:>8f}, Test Accuracy: {(100*testacc):>0.1f}%, Test Loss: {testloss:>8f}\")"
   ]
  },
  {
   "cell_type": "code",
   "execution_count": null,
   "id": "8dad1661-b9f4-4048-8196-6b76df0a5925",
   "metadata": {},
   "outputs": [
    {
     "ename": "RuntimeError",
     "evalue": "Can't call numpy() on Tensor that requires grad. Use tensor.detach().numpy() instead.",
     "output_type": "error",
     "traceback": [
      "\u001b[1;31m---------------------------------------------------------------------------\u001b[0m",
      "\u001b[1;31mRuntimeError\u001b[0m                              Traceback (most recent call last)",
      "\u001b[1;32mc:\\Users\\Belg\\OneDrive - OST\\Master's\\02_Semester\\TSM_DeLearn\\tsm-delearn\\Exercise\\Week3\\pw03_backprop_stud-group_08.ipynb Cell 36'\u001b[0m in \u001b[0;36m<cell line: 3>\u001b[1;34m()\u001b[0m\n\u001b[0;32m      <a href='vscode-notebook-cell:/c%3A/Users/Belg/OneDrive%20-%20OST/Master%27s/02_Semester/TSM_DeLearn/tsm-delearn/Exercise/Week3/pw03_backprop_stud-group_08.ipynb#ch0000035?line=0'>1</a>\u001b[0m plt\u001b[39m.\u001b[39mfigure(\u001b[39m1\u001b[39m)\n\u001b[0;32m      <a href='vscode-notebook-cell:/c%3A/Users/Belg/OneDrive%20-%20OST/Master%27s/02_Semester/TSM_DeLearn/tsm-delearn/Exercise/Week3/pw03_backprop_stud-group_08.ipynb#ch0000035?line=1'>2</a>\u001b[0m plt\u001b[39m.\u001b[39mplot(torch\u001b[39m.\u001b[39marange(epochs), trainlosses,\u001b[39m\"\u001b[39m\u001b[39mb-\u001b[39m\u001b[39m\"\u001b[39m)\n\u001b[1;32m----> <a href='vscode-notebook-cell:/c%3A/Users/Belg/OneDrive%20-%20OST/Master%27s/02_Semester/TSM_DeLearn/tsm-delearn/Exercise/Week3/pw03_backprop_stud-group_08.ipynb#ch0000035?line=2'>3</a>\u001b[0m plt\u001b[39m.\u001b[39;49mplot(torch\u001b[39m.\u001b[39;49marange(epochs), testlosses,\u001b[39m\"\u001b[39;49m\u001b[39mr-\u001b[39;49m\u001b[39m\"\u001b[39;49m)\n\u001b[0;32m      <a href='vscode-notebook-cell:/c%3A/Users/Belg/OneDrive%20-%20OST/Master%27s/02_Semester/TSM_DeLearn/tsm-delearn/Exercise/Week3/pw03_backprop_stud-group_08.ipynb#ch0000035?line=3'>4</a>\u001b[0m plt\u001b[39m.\u001b[39mtitle(\u001b[39m\"\u001b[39m\u001b[39mCE Loss\u001b[39m\u001b[39m\"\u001b[39m)\n\u001b[0;32m      <a href='vscode-notebook-cell:/c%3A/Users/Belg/OneDrive%20-%20OST/Master%27s/02_Semester/TSM_DeLearn/tsm-delearn/Exercise/Week3/pw03_backprop_stud-group_08.ipynb#ch0000035?line=5'>6</a>\u001b[0m plt\u001b[39m.\u001b[39mfigure(\u001b[39m2\u001b[39m)\n",
      "File \u001b[1;32m~\\Python\\venv\\lib\\site-packages\\matplotlib\\pyplot.py:2757\u001b[0m, in \u001b[0;36mplot\u001b[1;34m(scalex, scaley, data, *args, **kwargs)\u001b[0m\n\u001b[0;32m   <a href='file:///c%3A/Users/Belg/Python/venv/lib/site-packages/matplotlib/pyplot.py?line=2754'>2755</a>\u001b[0m \u001b[39m@_copy_docstring_and_deprecators\u001b[39m(Axes\u001b[39m.\u001b[39mplot)\n\u001b[0;32m   <a href='file:///c%3A/Users/Belg/Python/venv/lib/site-packages/matplotlib/pyplot.py?line=2755'>2756</a>\u001b[0m \u001b[39mdef\u001b[39;00m \u001b[39mplot\u001b[39m(\u001b[39m*\u001b[39margs, scalex\u001b[39m=\u001b[39m\u001b[39mTrue\u001b[39;00m, scaley\u001b[39m=\u001b[39m\u001b[39mTrue\u001b[39;00m, data\u001b[39m=\u001b[39m\u001b[39mNone\u001b[39;00m, \u001b[39m*\u001b[39m\u001b[39m*\u001b[39mkwargs):\n\u001b[1;32m-> <a href='file:///c%3A/Users/Belg/Python/venv/lib/site-packages/matplotlib/pyplot.py?line=2756'>2757</a>\u001b[0m     \u001b[39mreturn\u001b[39;00m gca()\u001b[39m.\u001b[39;49mplot(\n\u001b[0;32m   <a href='file:///c%3A/Users/Belg/Python/venv/lib/site-packages/matplotlib/pyplot.py?line=2757'>2758</a>\u001b[0m         \u001b[39m*\u001b[39;49margs, scalex\u001b[39m=\u001b[39;49mscalex, scaley\u001b[39m=\u001b[39;49mscaley,\n\u001b[0;32m   <a href='file:///c%3A/Users/Belg/Python/venv/lib/site-packages/matplotlib/pyplot.py?line=2758'>2759</a>\u001b[0m         \u001b[39m*\u001b[39;49m\u001b[39m*\u001b[39;49m({\u001b[39m\"\u001b[39;49m\u001b[39mdata\u001b[39;49m\u001b[39m\"\u001b[39;49m: data} \u001b[39mif\u001b[39;49;00m data \u001b[39mis\u001b[39;49;00m \u001b[39mnot\u001b[39;49;00m \u001b[39mNone\u001b[39;49;00m \u001b[39melse\u001b[39;49;00m {}), \u001b[39m*\u001b[39;49m\u001b[39m*\u001b[39;49mkwargs)\n",
      "File \u001b[1;32m~\\Python\\venv\\lib\\site-packages\\matplotlib\\axes\\_axes.py:1632\u001b[0m, in \u001b[0;36mAxes.plot\u001b[1;34m(self, scalex, scaley, data, *args, **kwargs)\u001b[0m\n\u001b[0;32m   <a href='file:///c%3A/Users/Belg/Python/venv/lib/site-packages/matplotlib/axes/_axes.py?line=1389'>1390</a>\u001b[0m \u001b[39m\"\"\"\u001b[39;00m\n\u001b[0;32m   <a href='file:///c%3A/Users/Belg/Python/venv/lib/site-packages/matplotlib/axes/_axes.py?line=1390'>1391</a>\u001b[0m \u001b[39mPlot y versus x as lines and/or markers.\u001b[39;00m\n\u001b[0;32m   <a href='file:///c%3A/Users/Belg/Python/venv/lib/site-packages/matplotlib/axes/_axes.py?line=1391'>1392</a>\u001b[0m \n\u001b[1;32m   (...)\u001b[0m\n\u001b[0;32m   <a href='file:///c%3A/Users/Belg/Python/venv/lib/site-packages/matplotlib/axes/_axes.py?line=1628'>1629</a>\u001b[0m \u001b[39m(``'green'``) or hex strings (``'#008000'``).\u001b[39;00m\n\u001b[0;32m   <a href='file:///c%3A/Users/Belg/Python/venv/lib/site-packages/matplotlib/axes/_axes.py?line=1629'>1630</a>\u001b[0m \u001b[39m\"\"\"\u001b[39;00m\n\u001b[0;32m   <a href='file:///c%3A/Users/Belg/Python/venv/lib/site-packages/matplotlib/axes/_axes.py?line=1630'>1631</a>\u001b[0m kwargs \u001b[39m=\u001b[39m cbook\u001b[39m.\u001b[39mnormalize_kwargs(kwargs, mlines\u001b[39m.\u001b[39mLine2D)\n\u001b[1;32m-> <a href='file:///c%3A/Users/Belg/Python/venv/lib/site-packages/matplotlib/axes/_axes.py?line=1631'>1632</a>\u001b[0m lines \u001b[39m=\u001b[39m [\u001b[39m*\u001b[39m\u001b[39mself\u001b[39m\u001b[39m.\u001b[39m_get_lines(\u001b[39m*\u001b[39margs, data\u001b[39m=\u001b[39mdata, \u001b[39m*\u001b[39m\u001b[39m*\u001b[39mkwargs)]\n\u001b[0;32m   <a href='file:///c%3A/Users/Belg/Python/venv/lib/site-packages/matplotlib/axes/_axes.py?line=1632'>1633</a>\u001b[0m \u001b[39mfor\u001b[39;00m line \u001b[39min\u001b[39;00m lines:\n\u001b[0;32m   <a href='file:///c%3A/Users/Belg/Python/venv/lib/site-packages/matplotlib/axes/_axes.py?line=1633'>1634</a>\u001b[0m     \u001b[39mself\u001b[39m\u001b[39m.\u001b[39madd_line(line)\n",
      "File \u001b[1;32m~\\Python\\venv\\lib\\site-packages\\matplotlib\\axes\\_base.py:312\u001b[0m, in \u001b[0;36m_process_plot_var_args.__call__\u001b[1;34m(self, data, *args, **kwargs)\u001b[0m\n\u001b[0;32m    <a href='file:///c%3A/Users/Belg/Python/venv/lib/site-packages/matplotlib/axes/_base.py?line=309'>310</a>\u001b[0m     this \u001b[39m+\u001b[39m\u001b[39m=\u001b[39m args[\u001b[39m0\u001b[39m],\n\u001b[0;32m    <a href='file:///c%3A/Users/Belg/Python/venv/lib/site-packages/matplotlib/axes/_base.py?line=310'>311</a>\u001b[0m     args \u001b[39m=\u001b[39m args[\u001b[39m1\u001b[39m:]\n\u001b[1;32m--> <a href='file:///c%3A/Users/Belg/Python/venv/lib/site-packages/matplotlib/axes/_base.py?line=311'>312</a>\u001b[0m \u001b[39myield from\u001b[39;00m \u001b[39mself\u001b[39;49m\u001b[39m.\u001b[39;49m_plot_args(this, kwargs)\n",
      "File \u001b[1;32m~\\Python\\venv\\lib\\site-packages\\matplotlib\\axes\\_base.py:488\u001b[0m, in \u001b[0;36m_process_plot_var_args._plot_args\u001b[1;34m(self, tup, kwargs, return_kwargs)\u001b[0m\n\u001b[0;32m    <a href='file:///c%3A/Users/Belg/Python/venv/lib/site-packages/matplotlib/axes/_base.py?line=485'>486</a>\u001b[0m \u001b[39mif\u001b[39;00m \u001b[39mlen\u001b[39m(xy) \u001b[39m==\u001b[39m \u001b[39m2\u001b[39m:\n\u001b[0;32m    <a href='file:///c%3A/Users/Belg/Python/venv/lib/site-packages/matplotlib/axes/_base.py?line=486'>487</a>\u001b[0m     x \u001b[39m=\u001b[39m _check_1d(xy[\u001b[39m0\u001b[39m])\n\u001b[1;32m--> <a href='file:///c%3A/Users/Belg/Python/venv/lib/site-packages/matplotlib/axes/_base.py?line=487'>488</a>\u001b[0m     y \u001b[39m=\u001b[39m _check_1d(xy[\u001b[39m1\u001b[39;49m])\n\u001b[0;32m    <a href='file:///c%3A/Users/Belg/Python/venv/lib/site-packages/matplotlib/axes/_base.py?line=488'>489</a>\u001b[0m \u001b[39melse\u001b[39;00m:\n\u001b[0;32m    <a href='file:///c%3A/Users/Belg/Python/venv/lib/site-packages/matplotlib/axes/_base.py?line=489'>490</a>\u001b[0m     x, y \u001b[39m=\u001b[39m index_of(xy[\u001b[39m-\u001b[39m\u001b[39m1\u001b[39m])\n",
      "File \u001b[1;32m~\\Python\\venv\\lib\\site-packages\\matplotlib\\cbook\\__init__.py:1304\u001b[0m, in \u001b[0;36m_check_1d\u001b[1;34m(x)\u001b[0m\n\u001b[0;32m   <a href='file:///c%3A/Users/Belg/Python/venv/lib/site-packages/matplotlib/cbook/__init__.py?line=1301'>1302</a>\u001b[0m \u001b[39m\"\"\"Convert scalars to 1D arrays; pass-through arrays as is.\"\"\"\u001b[39;00m\n\u001b[0;32m   <a href='file:///c%3A/Users/Belg/Python/venv/lib/site-packages/matplotlib/cbook/__init__.py?line=1302'>1303</a>\u001b[0m \u001b[39mif\u001b[39;00m \u001b[39mnot\u001b[39;00m \u001b[39mhasattr\u001b[39m(x, \u001b[39m'\u001b[39m\u001b[39mshape\u001b[39m\u001b[39m'\u001b[39m) \u001b[39mor\u001b[39;00m \u001b[39mlen\u001b[39m(x\u001b[39m.\u001b[39mshape) \u001b[39m<\u001b[39m \u001b[39m1\u001b[39m:\n\u001b[1;32m-> <a href='file:///c%3A/Users/Belg/Python/venv/lib/site-packages/matplotlib/cbook/__init__.py?line=1303'>1304</a>\u001b[0m     \u001b[39mreturn\u001b[39;00m np\u001b[39m.\u001b[39;49matleast_1d(x)\n\u001b[0;32m   <a href='file:///c%3A/Users/Belg/Python/venv/lib/site-packages/matplotlib/cbook/__init__.py?line=1304'>1305</a>\u001b[0m \u001b[39melse\u001b[39;00m:\n\u001b[0;32m   <a href='file:///c%3A/Users/Belg/Python/venv/lib/site-packages/matplotlib/cbook/__init__.py?line=1305'>1306</a>\u001b[0m     \u001b[39mtry\u001b[39;00m:\n\u001b[0;32m   <a href='file:///c%3A/Users/Belg/Python/venv/lib/site-packages/matplotlib/cbook/__init__.py?line=1306'>1307</a>\u001b[0m         \u001b[39m# work around\u001b[39;00m\n\u001b[0;32m   <a href='file:///c%3A/Users/Belg/Python/venv/lib/site-packages/matplotlib/cbook/__init__.py?line=1307'>1308</a>\u001b[0m         \u001b[39m# https://github.com/pandas-dev/pandas/issues/27775 which\u001b[39;00m\n\u001b[1;32m   (...)\u001b[0m\n\u001b[0;32m   <a href='file:///c%3A/Users/Belg/Python/venv/lib/site-packages/matplotlib/cbook/__init__.py?line=1318'>1319</a>\u001b[0m         \u001b[39m# This code should correctly identify and coerce to a\u001b[39;00m\n\u001b[0;32m   <a href='file:///c%3A/Users/Belg/Python/venv/lib/site-packages/matplotlib/cbook/__init__.py?line=1319'>1320</a>\u001b[0m         \u001b[39m# numpy array all pandas versions.\u001b[39;00m\n",
      "File \u001b[1;32m<__array_function__ internals>:180\u001b[0m, in \u001b[0;36matleast_1d\u001b[1;34m(*args, **kwargs)\u001b[0m\n",
      "File \u001b[1;32m~\\Python\\venv\\lib\\site-packages\\numpy\\core\\shape_base.py:65\u001b[0m, in \u001b[0;36matleast_1d\u001b[1;34m(*arys)\u001b[0m\n\u001b[0;32m     <a href='file:///c%3A/Users/Belg/Python/venv/lib/site-packages/numpy/core/shape_base.py?line=62'>63</a>\u001b[0m res \u001b[39m=\u001b[39m []\n\u001b[0;32m     <a href='file:///c%3A/Users/Belg/Python/venv/lib/site-packages/numpy/core/shape_base.py?line=63'>64</a>\u001b[0m \u001b[39mfor\u001b[39;00m ary \u001b[39min\u001b[39;00m arys:\n\u001b[1;32m---> <a href='file:///c%3A/Users/Belg/Python/venv/lib/site-packages/numpy/core/shape_base.py?line=64'>65</a>\u001b[0m     ary \u001b[39m=\u001b[39m asanyarray(ary)\n\u001b[0;32m     <a href='file:///c%3A/Users/Belg/Python/venv/lib/site-packages/numpy/core/shape_base.py?line=65'>66</a>\u001b[0m     \u001b[39mif\u001b[39;00m ary\u001b[39m.\u001b[39mndim \u001b[39m==\u001b[39m \u001b[39m0\u001b[39m:\n\u001b[0;32m     <a href='file:///c%3A/Users/Belg/Python/venv/lib/site-packages/numpy/core/shape_base.py?line=66'>67</a>\u001b[0m         result \u001b[39m=\u001b[39m ary\u001b[39m.\u001b[39mreshape(\u001b[39m1\u001b[39m)\n",
      "File \u001b[1;32m~\\Python\\venv\\lib\\site-packages\\torch\\_tensor.py:678\u001b[0m, in \u001b[0;36mTensor.__array__\u001b[1;34m(self, dtype)\u001b[0m\n\u001b[0;32m    <a href='file:///c%3A/Users/Belg/Python/venv/lib/site-packages/torch/_tensor.py?line=675'>676</a>\u001b[0m     \u001b[39mreturn\u001b[39;00m handle_torch_function(Tensor\u001b[39m.\u001b[39m__array__, (\u001b[39mself\u001b[39m,), \u001b[39mself\u001b[39m, dtype\u001b[39m=\u001b[39mdtype)\n\u001b[0;32m    <a href='file:///c%3A/Users/Belg/Python/venv/lib/site-packages/torch/_tensor.py?line=676'>677</a>\u001b[0m \u001b[39mif\u001b[39;00m dtype \u001b[39mis\u001b[39;00m \u001b[39mNone\u001b[39;00m:\n\u001b[1;32m--> <a href='file:///c%3A/Users/Belg/Python/venv/lib/site-packages/torch/_tensor.py?line=677'>678</a>\u001b[0m     \u001b[39mreturn\u001b[39;00m \u001b[39mself\u001b[39;49m\u001b[39m.\u001b[39;49mnumpy()\n\u001b[0;32m    <a href='file:///c%3A/Users/Belg/Python/venv/lib/site-packages/torch/_tensor.py?line=678'>679</a>\u001b[0m \u001b[39melse\u001b[39;00m:\n\u001b[0;32m    <a href='file:///c%3A/Users/Belg/Python/venv/lib/site-packages/torch/_tensor.py?line=679'>680</a>\u001b[0m     \u001b[39mreturn\u001b[39;00m \u001b[39mself\u001b[39m\u001b[39m.\u001b[39mnumpy()\u001b[39m.\u001b[39mastype(dtype, copy\u001b[39m=\u001b[39m\u001b[39mFalse\u001b[39;00m)\n",
      "\u001b[1;31mRuntimeError\u001b[0m: Can't call numpy() on Tensor that requires grad. Use tensor.detach().numpy() instead."
     ]
    },
    {
     "data": {
      "image/png": "[encoded data removed]",
      "text/plain": [
       "<Figure size 432x288 with 1 Axes>"
      ]
     },
     "metadata": {
      "needs_background": "light"
     },
     "output_type": "display_data"
    }
   ],
   "source": [
    "plt.figure(1)\n",
    "plt.plot(torch.arange(epochs), trainlosses,\"b-\")\n",
    "plt.plot(torch.arange(epochs), testlosses,\"r-\")\n",
    "plt.title(\"CE Loss\")\n",
    "\n",
    "plt.figure(2)\n",
    "plt.plot(torch.arange(epochs), trainaccs,\"b-\")\n",
    "plt.plot(torch.arange(epochs), testaccs,\"r-\")\n",
    "plt.ylim([0.7,1])\n",
    "plt.title(\"Accuracy\")\n"
   ]
  }
 ],
 "metadata": {
  "kernelspec": {
   "display_name": "Python 3 (ipykernel)",
   "language": "python",
   "name": "python3"
  },
  "language_info": {
   "codemirror_mode": {
    "name": "ipython",
    "version": 3
   },
   "file_extension": ".py",
   "mimetype": "text/x-python",
   "name": "python",
   "nbconvert_exporter": "python",
   "pygments_lexer": "ipython3",
   "version": "3.8.10"
  }
 },
 "nbformat": 4,
 "nbformat_minor": 5
}
