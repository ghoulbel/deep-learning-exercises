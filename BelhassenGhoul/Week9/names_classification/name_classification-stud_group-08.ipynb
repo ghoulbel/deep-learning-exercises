{
 "cells": [
  {
   "cell_type": "markdown",
   "metadata": {},
   "source": [
    "**Group-08**<br/>\n",
    "<font style=\"color:red\"> **Belhassen Ghoul <br/> Robin Ehrensperger <br/> Dominic Diedenhofen**</font>"
   ]
  },
  {
   "cell_type": "code",
   "execution_count": 1,
   "metadata": {
    "scrolled": true
   },
   "outputs": [],
   "source": [
    "import glob\n",
    "import os\n",
    "import string\n",
    "\n",
    "import numpy as np\n",
    "import pandas as pd\n",
    "\n",
    "from matplotlib import pyplot as plt\n",
    "import matplotlib.ticker as ticker\n",
    "\n",
    "from sklearn.metrics import confusion_matrix"
   ]
  },
  {
   "cell_type": "markdown",
   "metadata": {},
   "source": [
    "### Load Data\n",
    "\n",
    "The names can be found in text files in a src directory, one file per language.\n",
    "\n",
    "In the following you can find some utilities to load the data into pandas data frames. \n",
    "\n",
    "We will restrict to some common European languages. \n",
    "\n",
    "With the given selection, we will identify all the occurring characters and initialize an alphabet.<br>\n",
    "For this alphabet, we will use a one-hot-encoding to map them into a vector space representation. \n",
    "\n",
    "Foresee a suitable character for the end of the word, e.g. 'END'."
   ]
  },
  {
   "cell_type": "code",
   "execution_count": 2,
   "metadata": {},
   "outputs": [],
   "source": [
    "srcdir = 'data/names'\n",
    "languages = [\"English\",\"French\",\"Italian\",\"German\",\"Spanish\"]"
   ]
  },
  {
   "cell_type": "code",
   "execution_count": 3,
   "metadata": {},
   "outputs": [],
   "source": [
    "# inspect the data directory\n",
    "def findFiles(path): \n",
    "    return glob.glob(path)"
   ]
  },
  {
   "cell_type": "code",
   "execution_count": 4,
   "metadata": {},
   "outputs": [
    {
     "name": "stdout",
     "output_type": "stream",
     "text": [
      "data/names\\Arabic.txt\n",
      "data/names\\Chinese.txt\n",
      "data/names\\Czech.txt\n",
      "data/names\\Dutch.txt\n",
      "data/names\\English.txt\n",
      "data/names\\French.txt\n",
      "data/names\\German.txt\n",
      "data/names\\Greek.txt\n",
      "data/names\\Irish.txt\n",
      "data/names\\Italian.txt\n",
      "data/names\\Japanese.txt\n",
      "data/names\\Korean.txt\n",
      "data/names\\Polish.txt\n",
      "data/names\\Portuguese.txt\n",
      "data/names\\Russian.txt\n",
      "data/names\\Scottish.txt\n",
      "data/names\\Spanish.txt\n",
      "data/names\\Vietnamese.txt\n"
     ]
    }
   ],
   "source": [
    "print('\\n'.join(findFiles(os.path.join(srcdir,'*.txt'))))"
   ]
  },
  {
   "cell_type": "code",
   "execution_count": 5,
   "metadata": {},
   "outputs": [],
   "source": [
    "# Read a file and split into lines\n",
    "def readLines(filename):\n",
    "    lines = open(filename, encoding='utf-8').read().strip().split('\\n')\n",
    "    return lines\n",
    "\n",
    "def load_data(srcdir, categories=None):\n",
    "    names_list = []\n",
    "    for filename in findFiles(os.path.join(srcdir,'*.txt')):\n",
    "        category = os.path.splitext(os.path.basename(filename))[0]\n",
    "        if not categories or category in categories: \n",
    "            names = readLines(filename)\n",
    "            names_list.extend([(name,category) for name in names])\n",
    "    df = pd.DataFrame(names_list)\n",
    "    df.columns = [\"name\",\"lang\"]\n",
    "    return df"
   ]
  },
  {
   "cell_type": "code",
   "execution_count": 6,
   "metadata": {},
   "outputs": [
    {
     "data": {
      "text/html": [
       "<div>\n",
       "<style scoped>\n",
       "    .dataframe tbody tr th:only-of-type {\n",
       "        vertical-align: middle;\n",
       "    }\n",
       "\n",
       "    .dataframe tbody tr th {\n",
       "        vertical-align: top;\n",
       "    }\n",
       "\n",
       "    .dataframe thead th {\n",
       "        text-align: right;\n",
       "    }\n",
       "</style>\n",
       "<table border=\"1\" class=\"dataframe\">\n",
       "  <thead>\n",
       "    <tr style=\"text-align: right;\">\n",
       "      <th></th>\n",
       "      <th>name</th>\n",
       "      <th>lang</th>\n",
       "    </tr>\n",
       "  </thead>\n",
       "  <tbody>\n",
       "    <tr>\n",
       "      <th>0</th>\n",
       "      <td>Abbas</td>\n",
       "      <td>English</td>\n",
       "    </tr>\n",
       "    <tr>\n",
       "      <th>1</th>\n",
       "      <td>Abbey</td>\n",
       "      <td>English</td>\n",
       "    </tr>\n",
       "    <tr>\n",
       "      <th>2</th>\n",
       "      <td>Abbott</td>\n",
       "      <td>English</td>\n",
       "    </tr>\n",
       "    <tr>\n",
       "      <th>3</th>\n",
       "      <td>Abdi</td>\n",
       "      <td>English</td>\n",
       "    </tr>\n",
       "    <tr>\n",
       "      <th>4</th>\n",
       "      <td>Abel</td>\n",
       "      <td>English</td>\n",
       "    </tr>\n",
       "    <tr>\n",
       "      <th>5</th>\n",
       "      <td>Abraham</td>\n",
       "      <td>English</td>\n",
       "    </tr>\n",
       "    <tr>\n",
       "      <th>6</th>\n",
       "      <td>Abrahams</td>\n",
       "      <td>English</td>\n",
       "    </tr>\n",
       "    <tr>\n",
       "      <th>7</th>\n",
       "      <td>Abrams</td>\n",
       "      <td>English</td>\n",
       "    </tr>\n",
       "    <tr>\n",
       "      <th>8</th>\n",
       "      <td>Ackary</td>\n",
       "      <td>English</td>\n",
       "    </tr>\n",
       "    <tr>\n",
       "      <th>9</th>\n",
       "      <td>Ackroyd</td>\n",
       "      <td>English</td>\n",
       "    </tr>\n",
       "  </tbody>\n",
       "</table>\n",
       "</div>"
      ],
      "text/plain": [
       "       name     lang\n",
       "0     Abbas  English\n",
       "1     Abbey  English\n",
       "2    Abbott  English\n",
       "3      Abdi  English\n",
       "4      Abel  English\n",
       "5   Abraham  English\n",
       "6  Abrahams  English\n",
       "7    Abrams  English\n",
       "8    Ackary  English\n",
       "9   Ackroyd  English"
      ]
     },
     "execution_count": 6,
     "metadata": {},
     "output_type": "execute_result"
    }
   ],
   "source": [
    "names = load_data(srcdir,categories=languages)\n",
    "names.head(10)"
   ]
  },
  {
   "cell_type": "code",
   "execution_count": 7,
   "metadata": {},
   "outputs": [
    {
     "name": "stdout",
     "output_type": "stream",
     "text": [
      "Maximum name length:  18\n"
     ]
    }
   ],
   "source": [
    "maxlen = np.max([len(name) for name in names.name])\n",
    "print(\"Maximum name length: \", maxlen)"
   ]
  },
  {
   "cell_type": "code",
   "execution_count": 8,
   "metadata": {},
   "outputs": [
    {
     "name": "stdout",
     "output_type": "stream",
     "text": [
      "Size of alphabet:  74\n",
      "[' ', \"'\", 'A', 'B', 'C', 'D', 'E', 'F', 'G', 'H', 'I', 'J', 'K', 'L', 'M', 'N', 'O', 'P', 'Q', 'R', 'S', 'T', 'U', 'V', 'W', 'X', 'Y', 'Z', 'a', 'b', 'c', 'd', 'e', 'f', 'g', 'h', 'i', 'j', 'k', 'l', 'm', 'n', 'o', 'p', 'q', 'r', 's', 't', 'u', 'v', 'w', 'x', 'y', 'z', 'Á', 'É', 'ß', 'à', 'á', 'ä', 'ç', 'è', 'é', 'ê', 'ì', 'í', 'ñ', 'ò', 'ó', 'ö', 'ù', 'ú', 'ü', 'END']\n"
     ]
    }
   ],
   "source": [
    "alphabet = sorted(list(set(''.join([name for name in names.name]))))\n",
    "alphabet.append('END')\n",
    "len_alphabet = len(alphabet)\n",
    "char_index = dict((c, i) for i, c in enumerate(alphabet))\n",
    "print(\"Size of alphabet: \",len_alphabet)\n",
    "print(alphabet)"
   ]
  },
  {
   "cell_type": "code",
   "execution_count": 9,
   "metadata": {},
   "outputs": [
    {
     "data": {
      "text/plain": [
       "lang\n",
       "English    0.646230\n",
       "French     0.048802\n",
       "German     0.127555\n",
       "Italian    0.124912\n",
       "Spanish    0.052502\n",
       "Name: name, dtype: float64"
      ]
     },
     "execution_count": 9,
     "metadata": {},
     "output_type": "execute_result"
    }
   ],
   "source": [
    "names.groupby('lang')['name'].count()/len(names)"
   ]
  },
  {
   "cell_type": "markdown",
   "metadata": {},
   "source": [
    "### Vector Representations\n",
    "\n",
    "Now construct the vector representation by using one-hot-vectors. "
   ]
  },
  {
   "cell_type": "code",
   "execution_count": 10,
   "metadata": {},
   "outputs": [],
   "source": [
    "language_to_index = {country:index for index,country in enumerate(names.lang.unique())}\n",
    "index_to_language = {index:country for index,country in enumerate(names.lang.unique())}\n",
    "\n",
    "def onehot(i, length):\n",
    "    v = np.zeros(length);\n",
    "    v[i] = 1\n",
    "    return v\n",
    "\n",
    "def name_representation(name, maxlen):\n",
    "    ### START YOUR CODE\n",
    "    name_trunc = str(name)[0:maxlen]\n",
    "    size = len(char_index)\n",
    "    vector = [onehot(char_index[j], size) for j in str(name)]\n",
    "    # fill the rest with \n",
    "    for k in range(0,maxlen - len(str(name))):\n",
    "        vector.append(onehot(char_index['END'], size))\n",
    "    return vector\n",
    "    ### START YOUR CODE\n",
    "\n",
    "def lang_representation(language, language_to_index):\n",
    "    y = np.zeros(len(language_to_index))\n",
    "    y[language_to_index[language]]=1\n",
    "    return y\n",
    "\n",
    "def lang_from_output(score):\n",
    "    return index_to_language[np.argmax(score)]\n",
    "\n",
    "def predict(name, model):\n",
    "    score = model.predict(np.array([name_representation(name, maxlen)]))[0]\n",
    "    return lang_from_output(score)"
   ]
  },
  {
   "cell_type": "code",
   "execution_count": 11,
   "metadata": {},
   "outputs": [
    {
     "name": "stdout",
     "output_type": "stream",
     "text": [
      "[array([0., 0., 0., 1., 0., 0., 0., 0., 0., 0., 0., 0., 0., 0., 0., 0., 0.,\n",
      "       0., 0., 0., 0., 0., 0., 0., 0., 0., 0., 0., 0., 0., 0., 0., 0., 0.,\n",
      "       0., 0., 0., 0., 0., 0., 0., 0., 0., 0., 0., 0., 0., 0., 0., 0., 0.,\n",
      "       0., 0., 0., 0., 0., 0., 0., 0., 0., 0., 0., 0., 0., 0., 0., 0., 0.,\n",
      "       0., 0., 0., 0., 0., 0.]), array([0., 0., 0., 0., 0., 0., 0., 0., 0., 0., 0., 0., 0., 0., 0., 0., 0.,\n",
      "       0., 0., 0., 0., 0., 0., 0., 0., 0., 0., 0., 0., 0., 0., 0., 0., 0.,\n",
      "       0., 0., 0., 0., 0., 0., 0., 0., 0., 0., 0., 0., 0., 0., 0., 0., 0.,\n",
      "       0., 0., 0., 0., 0., 0., 0., 0., 0., 0., 0., 0., 0., 0., 0., 0., 0.,\n",
      "       0., 0., 0., 0., 0., 1.]), array([0., 0., 0., 0., 0., 0., 0., 0., 0., 0., 0., 0., 0., 0., 0., 0., 0.,\n",
      "       0., 0., 0., 0., 0., 0., 0., 0., 0., 0., 0., 0., 0., 0., 0., 0., 0.,\n",
      "       0., 0., 0., 0., 0., 0., 0., 0., 0., 0., 0., 0., 0., 0., 0., 0., 0.,\n",
      "       0., 0., 0., 0., 0., 0., 0., 0., 0., 0., 0., 0., 0., 0., 0., 0., 0.,\n",
      "       0., 0., 0., 0., 0., 1.]), array([0., 0., 0., 0., 0., 0., 0., 0., 0., 0., 0., 0., 0., 0., 0., 0., 0.,\n",
      "       0., 0., 0., 0., 0., 0., 0., 0., 0., 0., 0., 0., 0., 0., 0., 0., 0.,\n",
      "       0., 0., 0., 0., 0., 0., 0., 0., 0., 0., 0., 0., 0., 0., 0., 0., 0.,\n",
      "       0., 0., 0., 0., 0., 0., 0., 0., 0., 0., 0., 0., 0., 0., 0., 0., 0.,\n",
      "       0., 0., 0., 0., 0., 1.]), array([0., 0., 0., 0., 0., 0., 0., 0., 0., 0., 0., 0., 0., 0., 0., 0., 0.,\n",
      "       0., 0., 0., 0., 0., 0., 0., 0., 0., 0., 0., 0., 0., 0., 0., 0., 0.,\n",
      "       0., 0., 0., 0., 0., 0., 0., 0., 0., 0., 0., 0., 0., 0., 0., 0., 0.,\n",
      "       0., 0., 0., 0., 0., 0., 0., 0., 0., 0., 0., 0., 0., 0., 0., 0., 0.,\n",
      "       0., 0., 0., 0., 0., 1.]), array([0., 0., 0., 0., 0., 0., 0., 0., 0., 0., 0., 0., 0., 0., 0., 0., 0.,\n",
      "       0., 0., 0., 0., 0., 0., 0., 0., 0., 0., 0., 0., 0., 0., 0., 0., 0.,\n",
      "       0., 0., 0., 0., 0., 0., 0., 0., 0., 0., 0., 0., 0., 0., 0., 0., 0.,\n",
      "       0., 0., 0., 0., 0., 0., 0., 0., 0., 0., 0., 0., 0., 0., 0., 0., 0.,\n",
      "       0., 0., 0., 0., 0., 1.]), array([0., 0., 0., 0., 0., 0., 0., 0., 0., 0., 0., 0., 0., 0., 0., 0., 0.,\n",
      "       0., 0., 0., 0., 0., 0., 0., 0., 0., 0., 0., 0., 0., 0., 0., 0., 0.,\n",
      "       0., 0., 0., 0., 0., 0., 0., 0., 0., 0., 0., 0., 0., 0., 0., 0., 0.,\n",
      "       0., 0., 0., 0., 0., 0., 0., 0., 0., 0., 0., 0., 0., 0., 0., 0., 0.,\n",
      "       0., 0., 0., 0., 0., 1.]), array([0., 0., 0., 0., 0., 0., 0., 0., 0., 0., 0., 0., 0., 0., 0., 0., 0.,\n",
      "       0., 0., 0., 0., 0., 0., 0., 0., 0., 0., 0., 0., 0., 0., 0., 0., 0.,\n",
      "       0., 0., 0., 0., 0., 0., 0., 0., 0., 0., 0., 0., 0., 0., 0., 0., 0.,\n",
      "       0., 0., 0., 0., 0., 0., 0., 0., 0., 0., 0., 0., 0., 0., 0., 0., 0.,\n",
      "       0., 0., 0., 0., 0., 1.]), array([0., 0., 0., 0., 0., 0., 0., 0., 0., 0., 0., 0., 0., 0., 0., 0., 0.,\n",
      "       0., 0., 0., 0., 0., 0., 0., 0., 0., 0., 0., 0., 0., 0., 0., 0., 0.,\n",
      "       0., 0., 0., 0., 0., 0., 0., 0., 0., 0., 0., 0., 0., 0., 0., 0., 0.,\n",
      "       0., 0., 0., 0., 0., 0., 0., 0., 0., 0., 0., 0., 0., 0., 0., 0., 0.,\n",
      "       0., 0., 0., 0., 0., 1.]), array([0., 0., 0., 0., 0., 0., 0., 0., 0., 0., 0., 0., 0., 0., 0., 0., 0.,\n",
      "       0., 0., 0., 0., 0., 0., 0., 0., 0., 0., 0., 0., 0., 0., 0., 0., 0.,\n",
      "       0., 0., 0., 0., 0., 0., 0., 0., 0., 0., 0., 0., 0., 0., 0., 0., 0.,\n",
      "       0., 0., 0., 0., 0., 0., 0., 0., 0., 0., 0., 0., 0., 0., 0., 0., 0.,\n",
      "       0., 0., 0., 0., 0., 1.]), array([0., 0., 0., 0., 0., 0., 0., 0., 0., 0., 0., 0., 0., 0., 0., 0., 0.,\n",
      "       0., 0., 0., 0., 0., 0., 0., 0., 0., 0., 0., 0., 0., 0., 0., 0., 0.,\n",
      "       0., 0., 0., 0., 0., 0., 0., 0., 0., 0., 0., 0., 0., 0., 0., 0., 0.,\n",
      "       0., 0., 0., 0., 0., 0., 0., 0., 0., 0., 0., 0., 0., 0., 0., 0., 0.,\n",
      "       0., 0., 0., 0., 0., 1.]), array([0., 0., 0., 0., 0., 0., 0., 0., 0., 0., 0., 0., 0., 0., 0., 0., 0.,\n",
      "       0., 0., 0., 0., 0., 0., 0., 0., 0., 0., 0., 0., 0., 0., 0., 0., 0.,\n",
      "       0., 0., 0., 0., 0., 0., 0., 0., 0., 0., 0., 0., 0., 0., 0., 0., 0.,\n",
      "       0., 0., 0., 0., 0., 0., 0., 0., 0., 0., 0., 0., 0., 0., 0., 0., 0.,\n",
      "       0., 0., 0., 0., 0., 1.]), array([0., 0., 0., 0., 0., 0., 0., 0., 0., 0., 0., 0., 0., 0., 0., 0., 0.,\n",
      "       0., 0., 0., 0., 0., 0., 0., 0., 0., 0., 0., 0., 0., 0., 0., 0., 0.,\n",
      "       0., 0., 0., 0., 0., 0., 0., 0., 0., 0., 0., 0., 0., 0., 0., 0., 0.,\n",
      "       0., 0., 0., 0., 0., 0., 0., 0., 0., 0., 0., 0., 0., 0., 0., 0., 0.,\n",
      "       0., 0., 0., 0., 0., 1.]), array([0., 0., 0., 0., 0., 0., 0., 0., 0., 0., 0., 0., 0., 0., 0., 0., 0.,\n",
      "       0., 0., 0., 0., 0., 0., 0., 0., 0., 0., 0., 0., 0., 0., 0., 0., 0.,\n",
      "       0., 0., 0., 0., 0., 0., 0., 0., 0., 0., 0., 0., 0., 0., 0., 0., 0.,\n",
      "       0., 0., 0., 0., 0., 0., 0., 0., 0., 0., 0., 0., 0., 0., 0., 0., 0.,\n",
      "       0., 0., 0., 0., 0., 1.]), array([0., 0., 0., 0., 0., 0., 0., 0., 0., 0., 0., 0., 0., 0., 0., 0., 0.,\n",
      "       0., 0., 0., 0., 0., 0., 0., 0., 0., 0., 0., 0., 0., 0., 0., 0., 0.,\n",
      "       0., 0., 0., 0., 0., 0., 0., 0., 0., 0., 0., 0., 0., 0., 0., 0., 0.,\n",
      "       0., 0., 0., 0., 0., 0., 0., 0., 0., 0., 0., 0., 0., 0., 0., 0., 0.,\n",
      "       0., 0., 0., 0., 0., 1.]), array([0., 0., 0., 0., 0., 0., 0., 0., 0., 0., 0., 0., 0., 0., 0., 0., 0.,\n",
      "       0., 0., 0., 0., 0., 0., 0., 0., 0., 0., 0., 0., 0., 0., 0., 0., 0.,\n",
      "       0., 0., 0., 0., 0., 0., 0., 0., 0., 0., 0., 0., 0., 0., 0., 0., 0.,\n",
      "       0., 0., 0., 0., 0., 0., 0., 0., 0., 0., 0., 0., 0., 0., 0., 0., 0.,\n",
      "       0., 0., 0., 0., 0., 1.]), array([0., 0., 0., 0., 0., 0., 0., 0., 0., 0., 0., 0., 0., 0., 0., 0., 0.,\n",
      "       0., 0., 0., 0., 0., 0., 0., 0., 0., 0., 0., 0., 0., 0., 0., 0., 0.,\n",
      "       0., 0., 0., 0., 0., 0., 0., 0., 0., 0., 0., 0., 0., 0., 0., 0., 0.,\n",
      "       0., 0., 0., 0., 0., 0., 0., 0., 0., 0., 0., 0., 0., 0., 0., 0., 0.,\n",
      "       0., 0., 0., 0., 0., 1.]), array([0., 0., 0., 0., 0., 0., 0., 0., 0., 0., 0., 0., 0., 0., 0., 0., 0.,\n",
      "       0., 0., 0., 0., 0., 0., 0., 0., 0., 0., 0., 0., 0., 0., 0., 0., 0.,\n",
      "       0., 0., 0., 0., 0., 0., 0., 0., 0., 0., 0., 0., 0., 0., 0., 0., 0.,\n",
      "       0., 0., 0., 0., 0., 0., 0., 0., 0., 0., 0., 0., 0., 0., 0., 0., 0.,\n",
      "       0., 0., 0., 0., 0., 1.])]\n",
      "[0. 1. 0. 0. 0.]\n"
     ]
    }
   ],
   "source": [
    "print(name_representation(\"B\",maxlen))\n",
    "print(lang_representation(\"French\",language_to_index))"
   ]
  },
  {
   "cell_type": "markdown",
   "metadata": {},
   "source": [
    "### Prepare train/test\n",
    "\n",
    "Split the data into train/test\n",
    "\n",
    "Shuffle the data\n",
    "\n",
    "Transform the names data into a suitable vector respresentation:\n",
    "* names into numpy arrays of shape (*,maxlen,len_alphabet)\n",
    "* language into numpy array of shape (*,len(languages))\n",
    "\n"
   ]
  },
  {
   "cell_type": "code",
   "execution_count": 12,
   "metadata": {},
   "outputs": [],
   "source": [
    "from sklearn.model_selection import train_test_split\n",
    "test_split = 0.2\n",
    "\n",
    "### START YOUR CODE\n",
    "# Shuffle and split names data\n",
    "x = names[\"name\"]\n",
    "y = names[\"lang\"]\n",
    "\n",
    "X_train, X_test, Y_train, Y_test = train_test_split(x,y,test_size=test_split, random_state=42)\n",
    "### END YOUR CODE"
   ]
  },
  {
   "cell_type": "code",
   "execution_count": 13,
   "metadata": {},
   "outputs": [],
   "source": [
    "### START YOUR CODE\n",
    "\n",
    "# Map train and test data into vector space (one-hot-vectors)\n",
    "X_train_collectiokn = []\n",
    "for i in range(len(X_train)):\n",
    "    xc = name_representation(name=X_train.iloc[i],maxlen=maxlen)\n",
    "    X_train_collectiokn.append(xc)\n",
    "\n",
    "Y_train_collection = []\n",
    "for i in range(len(Y_train)):\n",
    "    yc = lang_representation(language=Y_train.iloc[i],language_to_index=language_to_index)\n",
    "    Y_train_collection.append(yc)\n",
    "\n",
    "X_test_collectiokn = []\n",
    "for i in range(len(X_test)):\n",
    "    xct = name_representation(name=X_test.iloc[i],maxlen=maxlen)\n",
    "    X_test_collectiokn.append(xct)\n",
    "\n",
    "Y_test_collection = []\n",
    "for i in range(len(Y_test)):\n",
    "    yct = lang_representation(language=Y_test.iloc[i],language_to_index=language_to_index)\n",
    "    Y_test_collection.append(yct)\n",
    "\n",
    "### END YOUR CODE"
   ]
  },
  {
   "cell_type": "code",
   "execution_count": 14,
   "metadata": {},
   "outputs": [],
   "source": [
    "X_train  = np.array(X_train_collectiokn)\n",
    "Y_train = np.array(Y_train_collection)\n",
    "\n",
    "X_test = np.array(X_test_collectiokn)\n",
    "Y_test = np.array(Y_test_collection)"
   ]
  },
  {
   "cell_type": "markdown",
   "metadata": {},
   "source": [
    "Possibly, pack the data into a Dataset (e.g. when working with in PyTorch)"
   ]
  },
  {
   "cell_type": "markdown",
   "metadata": {},
   "source": [
    "### Define and Train Model: Single Layer with SimpleRNN\n",
    "\n",
    "Create an RNN consisting of a single layer with a SimpleRNN (keras) and a softmax.\n",
    "\n",
    "Then train the model. Play with different number of hidden units in the layer to obtain a good accuracy."
   ]
  },
  {
   "cell_type": "code",
   "execution_count": 15,
   "metadata": {},
   "outputs": [],
   "source": [
    "#Hyperparameter\n",
    "batch_size= 64\n",
    "nepochs = 30\n",
    "nHidden =20\n",
    "inputShape = (maxlen,len_alphabet)"
   ]
  },
  {
   "cell_type": "code",
   "execution_count": 16,
   "metadata": {
    "tags": []
   },
   "outputs": [
    {
     "name": "stdout",
     "output_type": "stream",
     "text": [
      "Model: \"sequential\"\n",
      "_________________________________________________________________\n",
      " Layer (type)                Output Shape              Param #   \n",
      "=================================================================\n",
      " simple_rnn (SimpleRNN)      (None, 20)                1900      \n",
      "                                                                 \n",
      " dense (Dense)               (None, 5)                 105       \n",
      "                                                                 \n",
      "=================================================================\n",
      "Total params: 2,005\n",
      "Trainable params: 2,005\n",
      "Non-trainable params: 0\n",
      "_________________________________________________________________\n"
     ]
    }
   ],
   "source": [
    "### START YOUR CODE\n",
    "\n",
    "# SimpleRNN, single layer with tf.keras....\n",
    "from keras.layers import SimpleRNN, Dense\n",
    "from keras.models import Sequential\n",
    "model1 = Sequential()\n",
    "model1.add(SimpleRNN(units=nHidden, input_shape=inputShape))\n",
    "model1.add(Dense(len(languages), activation=\"softmax\"))\n",
    "model1.summary()\n",
    "\n",
    "model1.compile(loss=\"categorical_crossentropy\",optimizer=\"adam\",metrics=[\"accuracy\"])\n",
    "\n",
    "\n",
    "### END YOUR CODE"
   ]
  },
  {
   "cell_type": "code",
   "execution_count": 17,
   "metadata": {},
   "outputs": [
    {
     "name": "stdout",
     "output_type": "stream",
     "text": [
      "Epoch 1/30\n",
      "71/71 [==============================] - 2s 13ms/step - loss: 1.4013 - accuracy: 0.4747 - val_loss: 1.1413 - val_accuracy: 0.6373\n",
      "Epoch 2/30\n",
      "71/71 [==============================] - 1s 11ms/step - loss: 1.1081 - accuracy: 0.6485 - val_loss: 1.1259 - val_accuracy: 0.6373\n",
      "Epoch 3/30\n",
      "71/71 [==============================] - 1s 12ms/step - loss: 1.1025 - accuracy: 0.6485 - val_loss: 1.1252 - val_accuracy: 0.6373\n",
      "Epoch 4/30\n",
      "71/71 [==============================] - 1s 12ms/step - loss: 1.0969 - accuracy: 0.6485 - val_loss: 1.1124 - val_accuracy: 0.6382\n",
      "Epoch 5/30\n",
      "71/71 [==============================] - 1s 12ms/step - loss: 1.0611 - accuracy: 0.6542 - val_loss: 1.0466 - val_accuracy: 0.6567\n",
      "Epoch 6/30\n",
      "71/71 [==============================] - 1s 11ms/step - loss: 0.9898 - accuracy: 0.6722 - val_loss: 0.9741 - val_accuracy: 0.6690\n",
      "Epoch 7/30\n",
      "71/71 [==============================] - 1s 11ms/step - loss: 0.9072 - accuracy: 0.6943 - val_loss: 0.9199 - val_accuracy: 0.6743\n",
      "Epoch 8/30\n",
      "71/71 [==============================] - 1s 12ms/step - loss: 0.8550 - accuracy: 0.7093 - val_loss: 0.8839 - val_accuracy: 0.6910\n",
      "Epoch 9/30\n",
      "71/71 [==============================] - 1s 12ms/step - loss: 0.8207 - accuracy: 0.7185 - val_loss: 0.8649 - val_accuracy: 0.6972\n",
      "Epoch 10/30\n",
      "71/71 [==============================] - 1s 12ms/step - loss: 0.7975 - accuracy: 0.7249 - val_loss: 0.8515 - val_accuracy: 0.6972\n",
      "Epoch 11/30\n",
      "71/71 [==============================] - 1s 12ms/step - loss: 0.7755 - accuracy: 0.7337 - val_loss: 0.8415 - val_accuracy: 0.6998\n",
      "Epoch 12/30\n",
      "71/71 [==============================] - 1s 12ms/step - loss: 0.7589 - accuracy: 0.7388 - val_loss: 0.8708 - val_accuracy: 0.6963\n",
      "Epoch 13/30\n",
      "71/71 [==============================] - 1s 12ms/step - loss: 0.7599 - accuracy: 0.7385 - val_loss: 0.8418 - val_accuracy: 0.7051\n",
      "Epoch 14/30\n",
      "71/71 [==============================] - 1s 11ms/step - loss: 0.7409 - accuracy: 0.7425 - val_loss: 0.8471 - val_accuracy: 0.7104\n",
      "Epoch 15/30\n",
      "71/71 [==============================] - 1s 12ms/step - loss: 0.7286 - accuracy: 0.7487 - val_loss: 0.8025 - val_accuracy: 0.7218\n",
      "Epoch 16/30\n",
      "71/71 [==============================] - 1s 12ms/step - loss: 0.7115 - accuracy: 0.7522 - val_loss: 0.8004 - val_accuracy: 0.7165\n",
      "Epoch 17/30\n",
      "71/71 [==============================] - 1s 12ms/step - loss: 0.7048 - accuracy: 0.7544 - val_loss: 0.7993 - val_accuracy: 0.7218\n",
      "Epoch 18/30\n",
      "71/71 [==============================] - 1s 12ms/step - loss: 0.6995 - accuracy: 0.7597 - val_loss: 0.7940 - val_accuracy: 0.7245\n",
      "Epoch 19/30\n",
      "71/71 [==============================] - 1s 12ms/step - loss: 0.6907 - accuracy: 0.7608 - val_loss: 0.7857 - val_accuracy: 0.7280\n",
      "Epoch 20/30\n",
      "71/71 [==============================] - 1s 12ms/step - loss: 0.6885 - accuracy: 0.7656 - val_loss: 0.7875 - val_accuracy: 0.7289\n",
      "Epoch 21/30\n",
      "71/71 [==============================] - 1s 11ms/step - loss: 0.6795 - accuracy: 0.7663 - val_loss: 0.7834 - val_accuracy: 0.7298\n",
      "Epoch 22/30\n",
      "71/71 [==============================] - 1s 12ms/step - loss: 0.6738 - accuracy: 0.7678 - val_loss: 0.7886 - val_accuracy: 0.7324\n",
      "Epoch 23/30\n",
      "71/71 [==============================] - 1s 12ms/step - loss: 0.6650 - accuracy: 0.7698 - val_loss: 0.7887 - val_accuracy: 0.7315\n",
      "Epoch 24/30\n",
      "71/71 [==============================] - 1s 11ms/step - loss: 0.6624 - accuracy: 0.7714 - val_loss: 0.8191 - val_accuracy: 0.7201\n",
      "Epoch 25/30\n",
      "71/71 [==============================] - 1s 12ms/step - loss: 0.6655 - accuracy: 0.7700 - val_loss: 0.7846 - val_accuracy: 0.7271\n",
      "Epoch 26/30\n",
      "71/71 [==============================] - 1s 12ms/step - loss: 0.6507 - accuracy: 0.7749 - val_loss: 0.7796 - val_accuracy: 0.7280\n",
      "Epoch 27/30\n",
      "71/71 [==============================] - 1s 13ms/step - loss: 0.6586 - accuracy: 0.7696 - val_loss: 0.7868 - val_accuracy: 0.7289\n",
      "Epoch 28/30\n",
      "71/71 [==============================] - 1s 14ms/step - loss: 0.6484 - accuracy: 0.7718 - val_loss: 0.8016 - val_accuracy: 0.7254\n",
      "Epoch 29/30\n",
      "71/71 [==============================] - 1s 11ms/step - loss: 0.6457 - accuracy: 0.7802 - val_loss: 0.8530 - val_accuracy: 0.7174\n",
      "Epoch 30/30\n",
      "71/71 [==============================] - 1s 11ms/step - loss: 0.6420 - accuracy: 0.7795 - val_loss: 0.7983 - val_accuracy: 0.7236\n"
     ]
    }
   ],
   "source": [
    "### START YOUR CODE\n",
    "\n",
    "log = model1.fit(x=X_train,y=Y_train,batch_size=batch_size,epochs=nepochs, validation_data=(X_test,Y_test))\n",
    "\n",
    "### END YOUR CODE"
   ]
  },
  {
   "cell_type": "code",
   "execution_count": 18,
   "metadata": {},
   "outputs": [
    {
     "name": "stdout",
     "output_type": "stream",
     "text": [
      "Test loss: 0.7983320951461792\n",
      "Test accuracy: 0.7235915660858154\n",
      "Test accuracy: 0.7759912014007568\n"
     ]
    },
    {
     "data": {
      "image/png": "[encoded data removed]",
      "text/plain": [
       "<Figure size 864x288 with 2 Axes>"
      ]
     },
     "metadata": {
      "needs_background": "light"
     },
     "output_type": "display_data"
    }
   ],
   "source": [
    "f = plt.figure(figsize=(12,4))\n",
    "ax1 = f.add_subplot(121)\n",
    "ax2 = f.add_subplot(122)\n",
    "ax1.plot(log.history['loss'], label='Training loss')\n",
    "ax1.plot(log.history['val_loss'], label='Testing loss')\n",
    "ax1.legend()\n",
    "ax1.grid()\n",
    "ax2.plot(log.history['accuracy'], label='Training acc')\n",
    "ax2.plot(log.history['val_accuracy'], label='Testing acc')\n",
    "ax2.legend()\n",
    "ax2.grid()\n",
    "\n",
    "loss_test, metric_test = model1.evaluate(X_test, Y_test, verbose=0)\n",
    "print('Test loss:', loss_test)\n",
    "print('Test accuracy:', metric_test)\n",
    "loss_train, metric_train = model1.evaluate(X_train, Y_train, verbose=0)\n",
    "print('Test accuracy:', metric_train)"
   ]
  },
  {
   "cell_type": "markdown",
   "metadata": {
    "tags": []
   },
   "source": [
    "#### Findings"
   ]
  },
  {
   "cell_type": "markdown",
   "metadata": {},
   "source": [
    "<font style=\"color:red\"> high number hidden Layer = overfitting!, low batchsize peaky/ high batchsize doesn't learn a lot... you have to do some hyperparameter tuning to finde the best values for example gridsearch...!</font>"
   ]
  },
  {
   "cell_type": "markdown",
   "metadata": {},
   "source": [
    "### Implement Model with several SimpleRNN Layers"
   ]
  },
  {
   "cell_type": "code",
   "execution_count": 19,
   "metadata": {
    "tags": []
   },
   "outputs": [
    {
     "name": "stdout",
     "output_type": "stream",
     "text": [
      "Model: \"sequential_1\"\n",
      "_________________________________________________________________\n",
      " Layer (type)                Output Shape              Param #   \n",
      "=================================================================\n",
      " simple_rnn_1 (SimpleRNN)    (None, 18, 20)            1900      \n",
      "                                                                 \n",
      " simple_rnn_2 (SimpleRNN)    (None, 18, 20)            820       \n",
      "                                                                 \n",
      " simple_rnn_3 (SimpleRNN)    (None, 20)                820       \n",
      "                                                                 \n",
      " dense_1 (Dense)             (None, 5)                 105       \n",
      "                                                                 \n",
      "=================================================================\n",
      "Total params: 3,645\n",
      "Trainable params: 3,645\n",
      "Non-trainable params: 0\n",
      "_________________________________________________________________\n"
     ]
    }
   ],
   "source": [
    "### START YOUR CODE\n",
    "\n",
    "model = Sequential()\n",
    "model.add(SimpleRNN(units=nHidden, input_shape=inputShape,return_sequences=True))\n",
    "model.add(SimpleRNN(units=nHidden,return_sequences=True))\n",
    "model.add(SimpleRNN(units=nHidden,return_sequences=False))\n",
    "model.add(Dense(len(languages), activation=\"softmax\"))\n",
    "model.summary()\n",
    "\n",
    "model.compile(loss=\"categorical_crossentropy\",optimizer=\"adam\",metrics=[\"accuracy\"])\n",
    "### END YOUR CODE"
   ]
  },
  {
   "cell_type": "code",
   "execution_count": 20,
   "metadata": {},
   "outputs": [
    {
     "name": "stdout",
     "output_type": "stream",
     "text": [
      "Epoch 1/30\n",
      "71/71 [==============================] - 3s 37ms/step - loss: 1.1702 - accuracy: 0.6121 - val_loss: 1.1153 - val_accuracy: 0.6373\n",
      "Epoch 2/30\n",
      "71/71 [==============================] - 2s 33ms/step - loss: 1.0662 - accuracy: 0.6520 - val_loss: 1.0432 - val_accuracy: 0.6444\n",
      "Epoch 3/30\n",
      "71/71 [==============================] - 2s 33ms/step - loss: 0.9505 - accuracy: 0.6804 - val_loss: 0.9357 - val_accuracy: 0.6761\n",
      "Epoch 4/30\n",
      "71/71 [==============================] - 2s 33ms/step - loss: 0.8173 - accuracy: 0.7209 - val_loss: 0.8273 - val_accuracy: 0.7104\n",
      "Epoch 5/30\n",
      "71/71 [==============================] - 2s 33ms/step - loss: 0.7519 - accuracy: 0.7425 - val_loss: 0.8002 - val_accuracy: 0.7174\n",
      "Epoch 6/30\n",
      "71/71 [==============================] - 2s 33ms/step - loss: 0.7211 - accuracy: 0.7553 - val_loss: 0.7903 - val_accuracy: 0.7227\n",
      "Epoch 7/30\n",
      "71/71 [==============================] - 3s 36ms/step - loss: 0.6969 - accuracy: 0.7595 - val_loss: 0.7359 - val_accuracy: 0.7368\n",
      "Epoch 8/30\n",
      "71/71 [==============================] - 2s 34ms/step - loss: 0.6828 - accuracy: 0.7634 - val_loss: 0.7300 - val_accuracy: 0.7535\n",
      "Epoch 9/30\n",
      "71/71 [==============================] - 2s 34ms/step - loss: 0.6697 - accuracy: 0.7683 - val_loss: 0.7324 - val_accuracy: 0.7394\n",
      "Epoch 10/30\n",
      "71/71 [==============================] - 2s 34ms/step - loss: 0.6403 - accuracy: 0.7802 - val_loss: 0.7171 - val_accuracy: 0.7500\n",
      "Epoch 11/30\n",
      "71/71 [==============================] - 2s 34ms/step - loss: 0.6216 - accuracy: 0.7819 - val_loss: 0.6975 - val_accuracy: 0.7456\n",
      "Epoch 12/30\n",
      "71/71 [==============================] - 2s 34ms/step - loss: 0.6146 - accuracy: 0.7877 - val_loss: 0.7128 - val_accuracy: 0.7430\n",
      "Epoch 13/30\n",
      "71/71 [==============================] - 2s 34ms/step - loss: 0.6047 - accuracy: 0.7916 - val_loss: 0.6833 - val_accuracy: 0.7544\n",
      "Epoch 14/30\n",
      "71/71 [==============================] - 2s 33ms/step - loss: 0.5927 - accuracy: 0.7921 - val_loss: 0.6953 - val_accuracy: 0.7474\n",
      "Epoch 15/30\n",
      "71/71 [==============================] - 2s 33ms/step - loss: 0.5893 - accuracy: 0.7969 - val_loss: 0.6714 - val_accuracy: 0.7544\n",
      "Epoch 16/30\n",
      "71/71 [==============================] - 2s 32ms/step - loss: 0.5748 - accuracy: 0.8022 - val_loss: 0.6688 - val_accuracy: 0.7632\n",
      "Epoch 17/30\n",
      "71/71 [==============================] - 2s 33ms/step - loss: 0.5629 - accuracy: 0.8033 - val_loss: 0.6747 - val_accuracy: 0.7720\n",
      "Epoch 18/30\n",
      "71/71 [==============================] - 2s 33ms/step - loss: 0.5655 - accuracy: 0.8029 - val_loss: 0.6727 - val_accuracy: 0.7632\n",
      "Epoch 19/30\n",
      "71/71 [==============================] - 2s 32ms/step - loss: 0.5504 - accuracy: 0.8101 - val_loss: 0.7004 - val_accuracy: 0.7518\n",
      "Epoch 20/30\n",
      "71/71 [==============================] - 2s 32ms/step - loss: 0.5348 - accuracy: 0.8163 - val_loss: 0.6680 - val_accuracy: 0.7579\n",
      "Epoch 21/30\n",
      "71/71 [==============================] - 2s 33ms/step - loss: 0.5285 - accuracy: 0.8189 - val_loss: 0.6793 - val_accuracy: 0.7482\n",
      "Epoch 22/30\n",
      "71/71 [==============================] - 2s 32ms/step - loss: 0.5189 - accuracy: 0.8203 - val_loss: 0.6698 - val_accuracy: 0.7482\n",
      "Epoch 23/30\n",
      "71/71 [==============================] - 2s 32ms/step - loss: 0.5111 - accuracy: 0.8216 - val_loss: 0.6689 - val_accuracy: 0.7570\n",
      "Epoch 24/30\n",
      "71/71 [==============================] - 2s 32ms/step - loss: 0.5098 - accuracy: 0.8194 - val_loss: 0.6680 - val_accuracy: 0.7597\n",
      "Epoch 25/30\n",
      "71/71 [==============================] - 3s 35ms/step - loss: 0.4922 - accuracy: 0.8295 - val_loss: 0.6937 - val_accuracy: 0.7509\n",
      "Epoch 26/30\n",
      "71/71 [==============================] - 3s 35ms/step - loss: 0.4930 - accuracy: 0.8286 - val_loss: 0.6691 - val_accuracy: 0.7614\n",
      "Epoch 27/30\n",
      "71/71 [==============================] - 3s 35ms/step - loss: 0.4882 - accuracy: 0.8282 - val_loss: 0.6962 - val_accuracy: 0.7614\n",
      "Epoch 28/30\n",
      "71/71 [==============================] - 2s 34ms/step - loss: 0.4847 - accuracy: 0.8330 - val_loss: 0.6713 - val_accuracy: 0.7623\n",
      "Epoch 29/30\n",
      "71/71 [==============================] - 2s 34ms/step - loss: 0.4705 - accuracy: 0.8363 - val_loss: 0.7012 - val_accuracy: 0.7526\n",
      "Epoch 30/30\n",
      "71/71 [==============================] - 2s 33ms/step - loss: 0.4671 - accuracy: 0.8374 - val_loss: 0.6707 - val_accuracy: 0.7685\n"
     ]
    }
   ],
   "source": [
    "### START YOUR CODE\n",
    "\n",
    "log = model.fit(x=X_train,y=Y_train,batch_size=batch_size,epochs=nepochs, validation_data=(X_test,Y_test))\n",
    "\n",
    "### END YOUR CODE"
   ]
  },
  {
   "cell_type": "code",
   "execution_count": 21,
   "metadata": {},
   "outputs": [
    {
     "name": "stdout",
     "output_type": "stream",
     "text": [
      "Test loss: 0.6707028150558472\n",
      "Test accuracy: 0.7684859037399292\n",
      "Test accuracy: 0.8574889898300171\n"
     ]
    },
    {
     "data": {
      "image/png": "[encoded data removed]",
      "text/plain": [
       "<Figure size 864x288 with 2 Axes>"
      ]
     },
     "metadata": {
      "needs_background": "light"
     },
     "output_type": "display_data"
    }
   ],
   "source": [
    "f = plt.figure(figsize=(12,4))\n",
    "ax1 = f.add_subplot(121)\n",
    "ax2 = f.add_subplot(122)\n",
    "ax1.plot(log.history['loss'], label='Training loss')\n",
    "ax1.plot(log.history['val_loss'], label='Testing loss')\n",
    "ax1.legend()\n",
    "ax1.grid()\n",
    "ax2.plot(log.history['accuracy'], label='Training acc')\n",
    "ax2.plot(log.history['val_accuracy'], label='Testing acc')\n",
    "ax2.legend()\n",
    "ax2.grid()\n",
    "\n",
    "loss_test, metric_test = model.evaluate(X_test, Y_test, verbose=0)\n",
    "print('Test loss:', loss_test)\n",
    "print('Test accuracy:', metric_test)\n",
    "loss_train, metric_train = model.evaluate(X_train, Y_train, verbose=0)\n",
    "print('Test accuracy:', metric_train)"
   ]
  },
  {
   "cell_type": "markdown",
   "metadata": {},
   "source": [
    "#### Findings\n",
    "\n",
    "<font style=\"color:red\"> no big differences!</font>\n"
   ]
  },
  {
   "cell_type": "markdown",
   "metadata": {},
   "source": [
    "### Class Imbalance Handling\n",
    "\n",
    "Choose a method to address the class imbalance seen in the given example.\n",
    "- minority resampling \n",
    "- class weights in the loss\n",
    "\n",
    "Implement it and incorporate it in the training.\n",
    "Evaluate the results and compare it with the results obtained with the unbalanced training.  "
   ]
  },
  {
   "cell_type": "code",
   "execution_count": 22,
   "metadata": {},
   "outputs": [
    {
     "name": "stdout",
     "output_type": "stream",
     "text": [
      "3668\n",
      "277\n",
      "709\n",
      "724\n",
      "298\n"
     ]
    }
   ],
   "source": [
    "print(np.sum(names[\"lang\"]==\"English\"))\n",
    "print(np.sum(names[\"lang\"]==\"French\"))\n",
    "print(np.sum(names[\"lang\"]==\"Italian\"))\n",
    "print(np.sum(names[\"lang\"]==\"German\"))\n",
    "print(np.sum(names[\"lang\"]==\"Spanish\"))"
   ]
  },
  {
   "cell_type": "code",
   "execution_count": 23,
   "metadata": {},
   "outputs": [],
   "source": [
    "from sklearn.utils import resample\n",
    "\n",
    "x = names[\"name\"]\n",
    "y = names[\"lang\"]\n",
    "\n",
    "X_train, X_test, Y_train, Y_test = train_test_split(x,y,test_size=test_split, random_state=42)\n",
    "\n",
    "df = pd.concat([X_train,Y_train],axis=1)\n",
    "\n",
    "english = df[df[\"lang\"]==\"English\"]\n",
    "french = df[df[\"lang\"]==\"French\"]\n",
    "italian = df[df[\"lang\"]==\"Italian\"]\n",
    "german = df[df[\"lang\"]==\"German\"]\n",
    "spanish = df[df[\"lang\"]==\"Spanish\"]\n",
    "\n",
    "fUpsampled = resample(french,replace=True,n_samples=len(english),random_state=42)\n",
    "iUpsampled = resample(italian,replace=True,n_samples=len(english),random_state=42)\n",
    "gUpsampled = resample(german,replace=True,n_samples=len(english),random_state=42)\n",
    "sUpsampled = resample(spanish,replace=True,n_samples=len(english),random_state=42)\n",
    "\n",
    "dfUpsampled = pd.concat([english,fUpsampled,iUpsampled,gUpsampled,sUpsampled])\n",
    "\n",
    "X_train = dfUpsampled[\"name\"]\n",
    "Y_train = dfUpsampled[\"lang\"]\n",
    "\n",
    "X_train_collectiokn = []\n",
    "for i in range(len(X_train)):\n",
    "    xc = name_representation(name=X_train.iloc[i],maxlen=maxlen)\n",
    "    X_train_collectiokn.append(xc)\n",
    "\n",
    "Y_train_collection = []\n",
    "for i in range(len(Y_train)):\n",
    "    yc = lang_representation(language=Y_train.iloc[i],language_to_index=language_to_index)\n",
    "    Y_train_collection.append(yc)\n",
    "\n",
    "X_test_collectiokn = []\n",
    "for i in range(len(X_test)):\n",
    "    xct = name_representation(name=X_test.iloc[i],maxlen=maxlen)\n",
    "    X_test_collectiokn.append(xct)\n",
    "\n",
    "Y_test_collection = []\n",
    "for i in range(len(Y_test)):\n",
    "    yct = lang_representation(language=Y_test.iloc[i],language_to_index=language_to_index)\n",
    "    Y_test_collection.append(yct)\n",
    "\n",
    "X_train  = np.array(X_train_collectiokn)\n",
    "Y_train = np.array(Y_train_collection)\n",
    "\n",
    "X_test = np.array(X_test_collectiokn)\n",
    "Y_test = np.array(Y_test_collection)"
   ]
  },
  {
   "cell_type": "code",
   "execution_count": 24,
   "metadata": {},
   "outputs": [
    {
     "name": "stdout",
     "output_type": "stream",
     "text": [
      "2944\n",
      "2944\n",
      "2944\n",
      "2944\n",
      "2944\n"
     ]
    }
   ],
   "source": [
    "print(np.sum(dfUpsampled[\"lang\"]==\"English\"))\n",
    "print(np.sum(dfUpsampled[\"lang\"]==\"French\"))\n",
    "print(np.sum(dfUpsampled[\"lang\"]==\"Italian\"))\n",
    "print(np.sum(dfUpsampled[\"lang\"]==\"German\"))\n",
    "print(np.sum(dfUpsampled[\"lang\"]==\"Spanish\"))"
   ]
  },
  {
   "cell_type": "code",
   "execution_count": 25,
   "metadata": {},
   "outputs": [
    {
     "name": "stdout",
     "output_type": "stream",
     "text": [
      "Model: \"sequential_2\"\n",
      "_________________________________________________________________\n",
      " Layer (type)                Output Shape              Param #   \n",
      "=================================================================\n",
      " simple_rnn_4 (SimpleRNN)    (None, 18, 20)            1900      \n",
      "                                                                 \n",
      " simple_rnn_5 (SimpleRNN)    (None, 18, 20)            820       \n",
      "                                                                 \n",
      " simple_rnn_6 (SimpleRNN)    (None, 20)                820       \n",
      "                                                                 \n",
      " dense_2 (Dense)             (None, 5)                 105       \n",
      "                                                                 \n",
      "=================================================================\n",
      "Total params: 3,645\n",
      "Trainable params: 3,645\n",
      "Non-trainable params: 0\n",
      "_________________________________________________________________\n"
     ]
    }
   ],
   "source": [
    "### START YOUR CODE\n",
    "\n",
    "model = Sequential()\n",
    "model.add(SimpleRNN(units=nHidden, input_shape=inputShape,return_sequences=True))\n",
    "model.add(SimpleRNN(units=nHidden,return_sequences=True))\n",
    "model.add(SimpleRNN(units=nHidden,return_sequences=False))\n",
    "model.add(Dense(len(languages), activation=\"softmax\"))\n",
    "model.summary()\n",
    "\n",
    "model.compile(loss=\"categorical_crossentropy\",optimizer=\"adam\",metrics=[\"accuracy\"])\n",
    "### END YOUR CODE"
   ]
  },
  {
   "cell_type": "code",
   "execution_count": 26,
   "metadata": {},
   "outputs": [
    {
     "name": "stdout",
     "output_type": "stream",
     "text": [
      "Epoch 1/30\n",
      "58/58 [==============================] - 3s 40ms/step - loss: 1.5519 - accuracy: 0.3030 - val_loss: 1.4803 - val_accuracy: 0.3398\n",
      "Epoch 2/30\n",
      "58/58 [==============================] - 2s 35ms/step - loss: 1.3546 - accuracy: 0.4365 - val_loss: 1.4247 - val_accuracy: 0.2975\n",
      "Epoch 3/30\n",
      "58/58 [==============================] - 2s 35ms/step - loss: 1.2010 - accuracy: 0.5213 - val_loss: 1.3534 - val_accuracy: 0.3460\n",
      "Epoch 4/30\n",
      "58/58 [==============================] - 2s 34ms/step - loss: 1.0899 - accuracy: 0.5823 - val_loss: 1.2958 - val_accuracy: 0.3812\n",
      "Epoch 5/30\n",
      "58/58 [==============================] - 2s 36ms/step - loss: 1.0062 - accuracy: 0.6179 - val_loss: 1.2990 - val_accuracy: 0.3970\n",
      "Epoch 6/30\n",
      "58/58 [==============================] - 2s 36ms/step - loss: 0.9270 - accuracy: 0.6539 - val_loss: 1.2617 - val_accuracy: 0.4102\n",
      "Epoch 7/30\n",
      "58/58 [==============================] - 2s 35ms/step - loss: 0.8552 - accuracy: 0.6857 - val_loss: 1.2370 - val_accuracy: 0.4419\n",
      "Epoch 8/30\n",
      "58/58 [==============================] - 2s 35ms/step - loss: 0.8021 - accuracy: 0.7063 - val_loss: 1.2088 - val_accuracy: 0.4507\n",
      "Epoch 9/30\n",
      "58/58 [==============================] - 2s 35ms/step - loss: 0.7491 - accuracy: 0.7258 - val_loss: 1.2088 - val_accuracy: 0.4736\n",
      "Epoch 10/30\n",
      "58/58 [==============================] - 2s 36ms/step - loss: 0.7040 - accuracy: 0.7456 - val_loss: 1.2699 - val_accuracy: 0.4789\n",
      "Epoch 11/30\n",
      "58/58 [==============================] - 2s 36ms/step - loss: 0.6601 - accuracy: 0.7646 - val_loss: 1.2230 - val_accuracy: 0.4859\n",
      "Epoch 12/30\n",
      "58/58 [==============================] - 2s 36ms/step - loss: 0.6251 - accuracy: 0.7765 - val_loss: 1.1646 - val_accuracy: 0.5141\n",
      "Epoch 13/30\n",
      "58/58 [==============================] - 2s 38ms/step - loss: 0.6000 - accuracy: 0.7867 - val_loss: 1.1572 - val_accuracy: 0.5414\n",
      "Epoch 14/30\n",
      "58/58 [==============================] - 2s 36ms/step - loss: 0.5693 - accuracy: 0.8012 - val_loss: 1.1699 - val_accuracy: 0.5423\n",
      "Epoch 15/30\n",
      "58/58 [==============================] - 2s 35ms/step - loss: 0.5395 - accuracy: 0.8156 - val_loss: 1.1535 - val_accuracy: 0.5537\n",
      "Epoch 16/30\n",
      "58/58 [==============================] - 2s 36ms/step - loss: 0.5171 - accuracy: 0.8230 - val_loss: 1.1888 - val_accuracy: 0.5370\n",
      "Epoch 17/30\n",
      "58/58 [==============================] - 2s 36ms/step - loss: 0.5051 - accuracy: 0.8260 - val_loss: 1.2029 - val_accuracy: 0.5555\n",
      "Epoch 18/30\n",
      "58/58 [==============================] - 2s 36ms/step - loss: 0.4812 - accuracy: 0.8332 - val_loss: 1.1932 - val_accuracy: 0.5493\n",
      "Epoch 19/30\n",
      "58/58 [==============================] - 2s 37ms/step - loss: 0.4587 - accuracy: 0.8439 - val_loss: 1.1759 - val_accuracy: 0.5669\n",
      "Epoch 20/30\n",
      "58/58 [==============================] - 2s 34ms/step - loss: 0.4440 - accuracy: 0.8479 - val_loss: 1.2346 - val_accuracy: 0.5537\n",
      "Epoch 21/30\n",
      "58/58 [==============================] - 2s 34ms/step - loss: 0.4370 - accuracy: 0.8505 - val_loss: 1.2191 - val_accuracy: 0.5651\n",
      "Epoch 22/30\n",
      "58/58 [==============================] - 2s 33ms/step - loss: 0.4172 - accuracy: 0.8609 - val_loss: 1.2337 - val_accuracy: 0.5625\n",
      "Epoch 23/30\n",
      "58/58 [==============================] - 2s 36ms/step - loss: 0.4030 - accuracy: 0.8616 - val_loss: 1.2414 - val_accuracy: 0.5678\n",
      "Epoch 24/30\n",
      "58/58 [==============================] - 2s 35ms/step - loss: 0.3923 - accuracy: 0.8652 - val_loss: 1.2577 - val_accuracy: 0.5643\n",
      "Epoch 25/30\n",
      "58/58 [==============================] - 2s 35ms/step - loss: 0.3812 - accuracy: 0.8695 - val_loss: 1.2751 - val_accuracy: 0.5660\n",
      "Epoch 26/30\n",
      "58/58 [==============================] - 2s 35ms/step - loss: 0.3703 - accuracy: 0.8716 - val_loss: 1.2611 - val_accuracy: 0.5678\n",
      "Epoch 27/30\n",
      "58/58 [==============================] - 2s 35ms/step - loss: 0.3693 - accuracy: 0.8713 - val_loss: 1.2604 - val_accuracy: 0.5871\n",
      "Epoch 28/30\n",
      "58/58 [==============================] - 2s 35ms/step - loss: 0.3566 - accuracy: 0.8770 - val_loss: 1.2957 - val_accuracy: 0.5810\n",
      "Epoch 29/30\n",
      "58/58 [==============================] - 2s 35ms/step - loss: 0.3518 - accuracy: 0.8753 - val_loss: 1.3310 - val_accuracy: 0.5739\n",
      "Epoch 30/30\n",
      "58/58 [==============================] - 2s 35ms/step - loss: 0.3426 - accuracy: 0.8793 - val_loss: 1.3051 - val_accuracy: 0.5845\n"
     ]
    }
   ],
   "source": [
    "### START YOUR CODE\n",
    "\n",
    "log = model.fit(x=X_train,y=Y_train,batch_size=256,epochs=nepochs, validation_data=(X_test,Y_test))\n",
    "\n",
    "### END YOUR CODE"
   ]
  },
  {
   "cell_type": "code",
   "execution_count": 27,
   "metadata": {},
   "outputs": [
    {
     "name": "stdout",
     "output_type": "stream",
     "text": [
      "Test loss: 1.305059552192688\n",
      "Test accuracy: 0.5845070481300354\n",
      "Test accuracy: 0.890081524848938\n"
     ]
    },
    {
     "data": {
      "image/png": "[encoded data removed]",
      "text/plain": [
       "<Figure size 864x288 with 2 Axes>"
      ]
     },
     "metadata": {
      "needs_background": "light"
     },
     "output_type": "display_data"
    }
   ],
   "source": [
    "f = plt.figure(figsize=(12,4))\n",
    "ax1 = f.add_subplot(121)\n",
    "ax2 = f.add_subplot(122)\n",
    "ax1.plot(log.history['loss'], label='Training loss')\n",
    "ax1.plot(log.history['val_loss'], label='Testing loss')\n",
    "ax1.legend()\n",
    "ax1.grid()\n",
    "ax2.plot(log.history['accuracy'], label='Training acc')\n",
    "ax2.plot(log.history['val_accuracy'], label='Testing acc')\n",
    "ax2.legend()\n",
    "ax2.grid()\n",
    "\n",
    "loss_test, metric_test = model.evaluate(X_test, Y_test, verbose=0)\n",
    "print('Test loss:', loss_test)\n",
    "print('Test accuracy:', metric_test)\n",
    "loss_train, metric_train = model.evaluate(X_train, Y_train, verbose=0)\n",
    "print('Test accuracy:', metric_train)"
   ]
  },
  {
   "cell_type": "markdown",
   "metadata": {},
   "source": [
    "#### Findings\n",
    "\n",
    "<font style=\"color:red\"> with upsampling and downsampling it's worse! have I done something wrong?</font>\n"
   ]
  },
  {
   "cell_type": "markdown",
   "metadata": {},
   "source": []
  }
 ],
 "metadata": {
  "kernelspec": {
   "display_name": "Python 3.8 (tensorflow)",
   "language": "python",
   "name": "tensorflow"
  },
  "language_info": {
   "codemirror_mode": {
    "name": "ipython",
    "version": 3
   },
   "file_extension": ".py",
   "mimetype": "text/x-python",
   "name": "python",
   "nbconvert_exporter": "python",
   "pygments_lexer": "ipython3",
   "version": "3.8.10"
  }
 },
 "nbformat": 4,
 "nbformat_minor": 4
}
